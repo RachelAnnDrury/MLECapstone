{
  "cells": [
    {
      "cell_type": "markdown",
      "source": [
        "# Hyperparameter Tuning using HyperDrive\n",
        "\n",
        "This Jupyter Notebook is a portion of a larger project, and focuses specificially on the Hyperparameter tuning through HyperDrive for an experiment. Other portions include an AutoML experiment and project reference information.This Jupyter Notebook is a portion of a larger project, and focuses specificially on the Hyperparameter tuning through HyperDrive for an experiment. Other portions include an AutoML experiment and project reference information."
      ],
      "metadata": {}
    },
    {
      "cell_type": "code",
      "source": [
        "# Import dependencies\r\n",
        "import azureml.core\r\n",
        "from azureml.core import Workspace, Experiment\r\n",
        "from azureml.core.compute import ComputeTarget, AmlCompute\r\n",
        "from azureml.core.compute_target import ComputeTargetException\r\n",
        "from azureml.core.dataset import Dataset\r\n",
        "from azureml.train.sklearn import SKLearn\r\n",
        "from azureml.train.hyperdrive import RandomParameterSampling\r\n",
        "from azureml.train.hyperdrive.policy import BanditPolicy\r\n",
        "from azureml.train.hyperdrive.run import PrimaryMetricGoal\r\n",
        "from azureml.train.hyperdrive.runconfig import HyperDriveConfig\r\n",
        "from azureml.train.hyperdrive.parameter_expressions import uniform, choice\r\n",
        "from azureml.widgets import RunDetails\r\n",
        "\r\n",
        "import joblib \r\n",
        "import numpy as np\r\n",
        "import pandas as pd\r\n",
        "import os\r\n",
        "\r\n",
        "# Check core SDK version number\r\n",
        "print(\"SDK version:\", azureml.core.VERSION)"
      ],
      "outputs": [],
      "execution_count": null,
      "metadata": {
        "gather": {
          "logged": 1612756014732
        }
      }
    },
    {
      "cell_type": "markdown",
      "source": [
        "## Initialize Workspace & Create Experiment\r\n",
        "\r\n",
        "Initialize workspace from config, then create experiment within the workspace"
      ],
      "metadata": {
        "nteract": {
          "transient": {
            "deleting": false
          }
        }
      }
    },
    {
      "cell_type": "code",
      "source": [
        "ws = Workspace.from_config()\r\n",
        "print(ws.name, ws.resource_group, ws.location, ws.subscription_id, sep = '\\n')"
      ],
      "outputs": [],
      "execution_count": null,
      "metadata": {
        "collapsed": true,
        "jupyter": {
          "source_hidden": false,
          "outputs_hidden": false
        },
        "nteract": {
          "transient": {
            "deleting": false
          }
        },
        "gather": {
          "logged": 1612756016891
        }
      }
    },
    {
      "cell_type": "code",
      "source": [
        "experiment_name = 'hyperdrive-heart-failure'\r\n",
        "project_folder = './heartfailure'\r\n",
        "\r\n",
        "experiment = Experiment(ws, experiment_name)"
      ],
      "outputs": [],
      "execution_count": null,
      "metadata": {
        "collapsed": true,
        "jupyter": {
          "source_hidden": false,
          "outputs_hidden": false
        },
        "nteract": {
          "transient": {
            "deleting": false
          }
        },
        "gather": {
          "logged": 1612756017083
        }
      }
    },
    {
      "cell_type": "markdown",
      "source": [
        "## Create or Attach an Auto ML Compute Cluster\r\n",
        "Search for existing compute cluster; if not found, create one"
      ],
      "metadata": {
        "nteract": {
          "transient": {
            "deleting": false
          }
        }
      }
    },
    {
      "cell_type": "code",
      "source": [
        "from azureml.core.compute import AmlCompute\r\n",
        "from azureml.core.compute import ComputeTarget\r\n",
        "from azureml.core.compute_target import ComputeTargetException\r\n",
        "\r\n",
        "# If using a different existing cluster, enter the name in place of 'mlecscompute' below:\r\n",
        "amlcompute_cluster_name = 'mlecscompute'\r\n",
        "\r\n",
        "# Verify cluster existence: \r\n",
        "try: \r\n",
        "    compute_target = ComputeTarget(workspace = ws, name = amlcompute_cluster_name)\r\n",
        "    print('Found existing cluster, use it.')\r\n",
        "except ComputeTargetException:\r\n",
        "    print('Not found; creating new cluster.')\r\n",
        "    compute_config = AmlCompute.provisioning_configuration(vm_size='Standard_D2_v2', max_nodes=4, min_nodes=1)\r\n",
        "    compute_target = ComputeTarget.create(ws, amlcompute_cluster_name, compute_config)\r\n",
        "\r\n",
        "compute_target.wait_for_completion(show_output = True)"
      ],
      "outputs": [],
      "execution_count": null,
      "metadata": {
        "collapsed": true,
        "jupyter": {
          "source_hidden": false,
          "outputs_hidden": false
        },
        "nteract": {
          "transient": {
            "deleting": false
          }
        },
        "gather": {
          "logged": 1612752310138
        }
      }
    },
    {
      "cell_type": "markdown",
      "source": [
        "## Dataset\n",
        "\n",
        "TODO: In this markdown cell, give an overview of the dataset you are using. Also mention the task you will be performing.TODO: In this markdown cell, give an overview of the dataset you are using. Also mention the task you will be performing.\n",
        "\n",
        "\n",
        "Search for uploaded dataset in AzureML Studio; if not found, find it through the URLSearch for uploaded dataset in AzureML Studio; if not found, find it through the URL"
      ],
      "metadata": {}
    },
    {
      "cell_type": "code",
      "source": [
        "# Attempt to load the dataset from the Workspace, but otherwise, create from file\n",
        "# dataset file located at 'https://raw.githubusercontent.com/RachelAnnDrury/MLECapstone/main/heart_failure_clinical_records_dataset.csv'\n",
        "found = False\n",
        "# key should be set to 'heartfailuredataset' \n",
        "key = 'heartfailuredataset'\n",
        "# description_text should be set to 'heartfailuredataset' \n",
        "description_text = 'heartfailuredataset'\n",
        "\n",
        "if key in ws.datasets.keys():\n",
        "    found = True\n",
        "    dataset = ws.datasets[key]\n",
        "\n",
        "if not found:\n",
        "    datasetfile = 'https://raw.githubusercontent.com/RachelAnnDrury/MLECapstone/main/heart_failure_clinical_records_dataset.csv'\n",
        "    dataset = Dataset.Tabular.from_delimited_files(datasetfile)\n",
        "    dataset = dataset.register(workspace = ws, name = key, description = description_text)\n",
        "\n",
        "df = dataset.to_pandas_dataframe()\n",
        "df.describe()"
      ],
      "outputs": [],
      "execution_count": null,
      "metadata": {
        "gather": {
          "logged": 1612752316053
        },
        "jupyter": {
          "outputs_hidden": false,
          "source_hidden": false
        },
        "nteract": {
          "transient": {
            "deleting": false
          }
        }
      }
    },
    {
      "cell_type": "markdown",
      "source": [
        "## Hyperdrive Configuration\n",
        "\n",
        "TODO: Explain the model you are using and the reason for chosing the different hyperparameters, termination policy and config settings."
      ],
      "metadata": {
        "collapsed": true,
        "gather": {
          "logged": 1598531923519
        },
        "jupyter": {
          "outputs_hidden": false,
          "source_hidden": false
        },
        "nteract": {
          "transient": {
            "deleting": false
          }
        }
      }
    },
    {
      "cell_type": "code",
      "source": [
        "# HyperDrive Early Stopping Policy\n",
        "policy = BanditPolicy(slack_factor = 0.1, evaluation_interval = 1)\n",
        "\n",
        "# HyperDrive Parameter Sampler\n",
        "ps = RandomParameterSampling(\n",
        "    {\n",
        "        '--C' : uniform(0, 1),\n",
        "        '--max_iter' : choice(10, 50, 100, 120, 200)\n",
        "    }\n",
        ")\n",
        "\n",
        "#TODO: Create your estimator and hyperdrive config\n",
        "if \"training\" not in os.listdir():\n",
        "    os.mkdir(\"./training\")\n",
        "\n",
        "# Pass parameters to training script and create HyperDriveConfig\n",
        "est = SKLearn(source_directory = '.', \n",
        "    entry_script = 'train.py',\n",
        "    compute_target = compute_target)\n",
        "\n",
        "hyperdrive_config = HyperDriveConfig(\n",
        "    hyperparameter_sampling = ps, \n",
        "    primary_metric_name = 'Accuracy',\n",
        "    primary_metric_goal = PrimaryMetricGoal.MAXIMIZE, \n",
        "    max_total_runs = 100,\n",
        "    max_concurrent_runs = 4,\n",
        "    policy = policy,\n",
        "    estimator = est\n",
        ")"
      ],
      "outputs": [],
      "execution_count": null,
      "metadata": {
        "gather": {
          "logged": 1612752316332
        },
        "jupyter": {
          "outputs_hidden": false,
          "source_hidden": false
        },
        "nteract": {
          "transient": {
            "deleting": false
          }
        }
      }
    },
    {
      "cell_type": "code",
      "source": [
        "# Submit Hyperdrive Experiment\r\n",
        "hyperdrive_run = experiment.submit(config=hyperdrive_config, show_ouput = True)"
      ],
      "outputs": [],
      "execution_count": null,
      "metadata": {
        "gather": {
          "logged": 1612752317839
        },
        "jupyter": {
          "outputs_hidden": false,
          "source_hidden": false
        },
        "nteract": {
          "transient": {
            "deleting": false
          }
        }
      }
    },
    {
      "cell_type": "markdown",
      "source": [
        "## Run Details\n",
        "\n",
        "OPTIONAL: Write about the different models trained and their performance. Why do you think some models did better than others?"
      ],
      "metadata": {
        "collapsed": true,
        "gather": {
          "logged": 1598544898497
        },
        "jupyter": {
          "outputs_hidden": false,
          "source_hidden": false
        },
        "nteract": {
          "transient": {
            "deleting": false
          }
        }
      }
    },
    {
      "cell_type": "code",
      "source": [
        "# Run Details in Azure Widget\r\n",
        "RunDetails(hyperdrive_run).show()"
      ],
      "outputs": [],
      "execution_count": null,
      "metadata": {
        "gather": {
          "logged": 1612750843462
        },
        "jupyter": {
          "outputs_hidden": false,
          "source_hidden": false
        },
        "nteract": {
          "transient": {
            "deleting": false
          }
        }
      }
    },
    {
      "cell_type": "code",
      "source": [
        "hyperdrive_run.wait_for_completion(show_output = True)"
      ],
      "outputs": [],
      "execution_count": null,
      "metadata": {
        "collapsed": true,
        "jupyter": {
          "source_hidden": false,
          "outputs_hidden": false
        },
        "nteract": {
          "transient": {
            "deleting": false
          }
        }
      }
    },
    {
      "cell_type": "markdown",
      "source": [
        "## Best Model\n",
        "\n",
        "TODO: In the cell below, get the best model from the hyperdrive experiments and display all the properties of the model."
      ],
      "metadata": {}
    },
    {
      "cell_type": "code",
      "source": [
        "# Retrieve the best HyperDrive Run\r\n",
        "best_hyperdrive_run = hyperdrive_run.get_best_run_by_primary_metric()\r\n",
        "print(best_hyperdrive_run.get_file_names(), best_hyperdrive_run.id, best_hyperdrive_run.get_metrics())"
      ],
      "outputs": [],
      "execution_count": null,
      "metadata": {
        "gather": {
          "logged": 1612748710582
        },
        "jupyter": {
          "outputs_hidden": false,
          "source_hidden": false
        },
        "nteract": {
          "transient": {
            "deleting": false
          }
        }
      }
    },
    {
      "cell_type": "markdown",
      "source": [
        "#Get details???"
      ],
      "metadata": {
        "nteract": {
          "transient": {
            "deleting": false
          }
        }
      }
    },
    {
      "cell_type": "code",
      "source": [
        "# Save the best model\r\n",
        "hyperdrive_model = best_hyperdrive_run.register_model(model_name = 'hyperdrivemodel', model_path = 'outputs/model.joblib')"
      ],
      "outputs": [],
      "execution_count": null,
      "metadata": {
        "gather": {
          "logged": 1612748715601
        },
        "jupyter": {
          "outputs_hidden": false,
          "source_hidden": false
        },
        "nteract": {
          "transient": {
            "deleting": false
          }
        }
      }
    },
    {
      "cell_type": "markdown",
      "source": [
        "## Model Deployment\n",
        "\n",
        "AutoML generated a more accurate model than this HyperDrive Config; only one model to be deployed, see automl.ipynb Notebook for deployment"
      ],
      "metadata": {
        "collapsed": true,
        "jupyter": {
          "outputs_hidden": false,
          "source_hidden": false
        },
        "nteract": {
          "transient": {
            "deleting": false
          }
        }
      }
    }
  ],
  "metadata": {
    "kernel_info": {
      "name": "python3"
    },
    "kernelspec": {
      "name": "python3",
      "language": "python",
      "display_name": "Python 3"
    },
    "language_info": {
      "name": "python",
      "version": "3.6.9",
      "mimetype": "text/x-python",
      "codemirror_mode": {
        "name": "ipython",
        "version": 3
      },
      "pygments_lexer": "ipython3",
      "nbconvert_exporter": "python",
      "file_extension": ".py"
    },
    "nteract": {
      "version": "nteract-front-end@1.0.0"
    }
  },
  "nbformat": 4,
  "nbformat_minor": 2
}