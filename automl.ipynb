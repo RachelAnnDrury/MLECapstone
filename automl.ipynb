{
  "cells": [
    {
      "cell_type": "markdown",
      "source": [
        "# Automated ML\n",
        "\n",
        "TODO: Import Dependencies. In the cell below, import all the dependencies that you will need to complete the project."
      ],
      "metadata": {}
    },
    {
      "cell_type": "code",
      "source": [
        "import csv\r\n",
        "import logging\r\n",
        "import os\r\n",
        "\r\n",
        "import numpy as np\r\n",
        "import pandas as pd\r\n",
        "import pkg_resources\r\n",
        "\r\n",
        "import azureml.core\r\n",
        "from azureml.core import Dataset, Experiment, Workspace\r\n",
        "from azureml.data.dataset_factory import TabularDatasetFactory\r\n",
        "from azureml.pipeline.steps import AutoMLStep\r\n",
        "from azureml.train.automl import AutoMLConfig\r\n",
        "from azureml.widgets import RunDetails\r\n",
        "\r\n",
        "from sklearn import datasets\r\n",
        "from sklearn.model_selection import train_test_split\r\n",
        "\r\n",
        "# Check core SDK version number\r\n",
        "print(\"SDK version:\", azureml.core.VERSION)"
      ],
      "outputs": [],
      "execution_count": null,
      "metadata": {
        "gather": {
          "logged": 1612686932766
        },
        "jupyter": {
          "outputs_hidden": false,
          "source_hidden": false
        },
        "nteract": {
          "transient": {
            "deleting": false
          }
        }
      }
    },
    {
      "cell_type": "markdown",
      "source": [
        "## Initialize Workspace\r\n",
        "\r\n",
        "Initialize workspace from config"
      ],
      "metadata": {
        "nteract": {
          "transient": {
            "deleting": false
          }
        }
      }
    },
    {
      "cell_type": "code",
      "source": [
        "ws = Workspace.from_config()\r\n",
        "print(ws.name, ws.resource_group, ws.location, ws.subscription_id, sep = '\\n')"
      ],
      "outputs": [],
      "execution_count": null,
      "metadata": {
        "collapsed": true,
        "jupyter": {
          "source_hidden": false,
          "outputs_hidden": false
        },
        "nteract": {
          "transient": {
            "deleting": false
          }
        },
        "gather": {
          "logged": 1612686938587
        }
      }
    },
    {
      "cell_type": "markdown",
      "source": [
        "## Create Azure ML Experiment\r\n",
        "\r\n",
        "Create and name the experiment"
      ],
      "metadata": {
        "nteract": {
          "transient": {
            "deleting": false
          }
        }
      }
    },
    {
      "cell_type": "code",
      "source": [
        "# Choose a name for experiment\r\n",
        "experiment_name = 'automl-heart-failure'\r\n",
        "project_folder = './heartfailure'\r\n",
        "\r\n",
        "experiment = Experiment(ws, experiment_name)"
      ],
      "outputs": [],
      "execution_count": null,
      "metadata": {
        "collapsed": true,
        "jupyter": {
          "source_hidden": false,
          "outputs_hidden": false
        },
        "nteract": {
          "transient": {
            "deleting": false
          }
        },
        "gather": {
          "logged": 1612686940895
        }
      }
    },
    {
      "cell_type": "markdown",
      "source": [
        "## Create or Attach an Auto ML Compute Cluster\r\n",
        "Search for existing compute cluster; if not found, create one"
      ],
      "metadata": {
        "nteract": {
          "transient": {
            "deleting": false
          }
        }
      }
    },
    {
      "cell_type": "code",
      "source": [
        "from azureml.core.compute import AmlCompute\r\n",
        "from azureml.core.compute import ComputeTarget\r\n",
        "from azureml.core.compute_target import ComputeTargetException\r\n",
        "\r\n",
        "# If using a different existing cluster, enter the name in place of 'mlecscompute' below:\r\n",
        "amlcompute_cluster_name = 'mlecscompute'\r\n",
        "\r\n",
        "# Verify cluster existence: \r\n",
        "try: \r\n",
        "    compute_target = ComputeTarget(workspace = ws, name = amlcompute_cluster_name)\r\n",
        "    print('Found existing cluster, use it.')\r\n",
        "except ComputeTargetException:\r\n",
        "    print('Not found; creating new cluster.')\r\n",
        "    compute_config = AmlCompute.provisioning_configuration(vm_size='Standard_D2_v2', max_nodes=4, min_nodes=1)\r\n",
        "    compute_target = ComputeTarget.create(ws, amlcompute_cluster_name, compute_config)\r\n",
        "\r\n",
        "compute_target.wait_for_completion(show_output = True)"
      ],
      "outputs": [],
      "execution_count": null,
      "metadata": {
        "collapsed": true,
        "jupyter": {
          "source_hidden": false,
          "outputs_hidden": false
        },
        "nteract": {
          "transient": {
            "deleting": false
          }
        },
        "gather": {
          "logged": 1612686948681
        }
      }
    },
    {
      "cell_type": "markdown",
      "source": [
        "## Dataset\n",
        "\n",
        "### Overview\n",
        "TODO: In this markdown cell, give an overview of the dataset you are using. Also mention the task you will be performing.\n",
        "\n",
        "\n",
        "Search for uploaded dataset in AzureML Studio; if not found, find it through the URL"
      ],
      "metadata": {}
    },
    {
      "cell_type": "code",
      "source": [
        "# Attempt to load the dataset from the Workspace, but otherwise, create from file\n",
        "# dataset file located at 'https://raw.githubusercontent.com/RachelAnnDrury/MLECapstone/main/heart_failure_clinical_records_dataset.csv'\n",
        "found = False\n",
        "# key should be set to 'heartfailuredataset' \n",
        "key = 'heartfailuredataset'\n",
        "# description_text should be set to 'heartfailuredataset' \n",
        "description_text = 'heartfailuredataset'\n",
        "\n",
        "if key in ws.datasets.keys():\n",
        "    found = True\n",
        "    dataset = ws.datasets[key]\n",
        "\n",
        "if not found:\n",
        "    datasetfile = 'https://raw.githubusercontent.com/RachelAnnDrury/MLECapstone/main/heart_failure_clinical_records_dataset.csv'\n",
        "    dataset = Dataset.Tabular.from_delimited_files(datasetfile)\n",
        "    dataset = dataset.register(workspace = ws, name = key, description = description_text)\n",
        "\n",
        "df = dataset.to_pandas_dataframe()\n",
        "df.describe()"
      ],
      "outputs": [],
      "execution_count": null,
      "metadata": {
        "gather": {
          "logged": 1612686953962
        },
        "jupyter": {
          "outputs_hidden": false,
          "source_hidden": false
        },
        "nteract": {
          "transient": {
            "deleting": false
          }
        }
      }
    },
    {
      "cell_type": "markdown",
      "source": [
        "## AutoML Configuration\n",
        "\n",
        "TODO: Explain why you chose the automl settings and cofiguration you used below."
      ],
      "metadata": {}
    },
    {
      "cell_type": "code",
      "source": [
        "# AutoML settings\n",
        "automl_settings = {\n",
        "    \"experiment_timeout_minutes\": 20,\n",
        "    \"max_concurrent_iterations\": 5,\n",
        "    \"primary_metric\" : 'accuracy'\n",
        "}\n",
        "\n",
        "# AutoML config\n",
        "automl_config = AutoMLConfig(compute_target=compute_target,\n",
        "                             task = \"classification\",\n",
        "                             training_data = dataset,\n",
        "                             label_column_name = \"DEATH_EVENT\",   \n",
        "                             path = project_folder,\n",
        "                             enable_early_stopping = True,\n",
        "                             featurization = 'auto',\n",
        "                             debug_log = \"automl_errors.log\",\n",
        "                             **automl_settings\n",
        "                            )"
      ],
      "outputs": [],
      "execution_count": null,
      "metadata": {
        "gather": {
          "logged": 1612686965249
        },
        "jupyter": {
          "outputs_hidden": false,
          "source_hidden": false
        },
        "nteract": {
          "transient": {
            "deleting": false
          }
        }
      }
    },
    {
      "cell_type": "code",
      "source": [
        "# Submit experiment\n",
        "automl_run = experiment.submit(config = automl_config, show_output = True)"
      ],
      "outputs": [
        {
          "output_type": "stream",
          "name": "stdout",
          "text": [
            "        33   MinMaxScaler RandomForest                      0:00:56       0.8226    0.8529\n",
            "        34   StandardScalerWrapper LightGBM                 0:00:40       0.8391    0.8529\n",
            "        35                                                  0:00:27          nan    0.8529\n",
            "        36                                                  0:00:17          nan    0.8529\n",
            "        37                                                  0:00:20          nan    0.8529\n",
            "        38    VotingEnsemble                                0:01:49       0.8797    0.8797\n",
            "        39    StackEnsemble                                 0:01:55       0.8730    0.8797\n"
          ]
        }
      ],
      "execution_count": 12,
      "metadata": {
        "gather": {
          "logged": 1612688040148
        },
        "jupyter": {
          "outputs_hidden": false,
          "source_hidden": false
        },
        "nteract": {
          "transient": {
            "deleting": false
          }
        }
      }
    },
    {
      "cell_type": "markdown",
      "source": [
        "## Run Details\n",
        "\n",
        "OPTIONAL: Write about the different models trained and their performance. Why do you think some models did better than others?\n",
        "\n",
        "TODO: In the cell below, use the `RunDetails` widget to show the different experiments."
      ],
      "metadata": {}
    },
    {
      "cell_type": "code",
      "source": [
        "RunDetails(automl_run).show()"
      ],
      "outputs": [
        {
          "output_type": "display_data",
          "data": {
            "text/plain": "_AutoMLWidget(widget_settings={'childWidgetDisplay': 'popup', 'send_telemetry': False, 'log_level': 'INFO', 's…",
            "application/vnd.jupyter.widget-view+json": {
              "version_major": 2,
              "version_minor": 0,
              "model_id": "0ee35502c7654c7a9db7f33ee33e4161"
            }
          },
          "metadata": {}
        },
        {
          "output_type": "display_data",
          "data": {
            "application/aml.mini.widget.v1": "{\"status\": \"Completed\", \"workbench_run_details_uri\": \"https://ml.azure.com/experiments/automl-heart-failure/runs/AutoML_5031ebf5-453b-47d8-b21e-a09dfb5c0976?wsid=/subscriptions/9b72f9e6-56c5-4c16-991b-19c652994860/resourcegroups/aml-quickstarts-137784/workspaces/quick-starts-ws-137784\", \"run_id\": \"AutoML_5031ebf5-453b-47d8-b21e-a09dfb5c0976\", \"run_properties\": {\"run_id\": \"AutoML_5031ebf5-453b-47d8-b21e-a09dfb5c0976\", \"created_utc\": \"2021-02-07T08:36:52.031923Z\", \"properties\": {\"num_iterations\": \"1000\", \"training_type\": \"TrainFull\", \"acquisition_function\": \"EI\", \"primary_metric\": \"accuracy\", \"train_split\": \"0\", \"acquisition_parameter\": \"0\", \"num_cross_validation\": null, \"target\": \"mlecscompute\", \"AMLSettingsJsonString\": \"{\\\"path\\\":null,\\\"name\\\":\\\"automl-heart-failure\\\",\\\"subscription_id\\\":\\\"9b72f9e6-56c5-4c16-991b-19c652994860\\\",\\\"resource_group\\\":\\\"aml-quickstarts-137784\\\",\\\"workspace_name\\\":\\\"quick-starts-ws-137784\\\",\\\"region\\\":\\\"southcentralus\\\",\\\"compute_target\\\":\\\"mlecscompute\\\",\\\"spark_service\\\":null,\\\"azure_service\\\":\\\"remote\\\",\\\"many_models\\\":false,\\\"pipeline_fetch_max_batch_size\\\":1,\\\"iterations\\\":1000,\\\"primary_metric\\\":\\\"accuracy\\\",\\\"task_type\\\":\\\"classification\\\",\\\"data_script\\\":null,\\\"validation_size\\\":0.0,\\\"n_cross_validations\\\":null,\\\"y_min\\\":null,\\\"y_max\\\":null,\\\"num_classes\\\":null,\\\"featurization\\\":\\\"auto\\\",\\\"_ignore_package_version_incompatibilities\\\":false,\\\"is_timeseries\\\":false,\\\"max_cores_per_iteration\\\":1,\\\"max_concurrent_iterations\\\":5,\\\"iteration_timeout_minutes\\\":null,\\\"mem_in_mb\\\":null,\\\"enforce_time_on_windows\\\":false,\\\"experiment_timeout_minutes\\\":20,\\\"experiment_exit_score\\\":null,\\\"whitelist_models\\\":null,\\\"blacklist_algos\\\":[\\\"TensorFlowLinearClassifier\\\",\\\"TensorFlowDNN\\\"],\\\"supported_models\\\":[\\\"KNN\\\",\\\"SVM\\\",\\\"MultinomialNaiveBayes\\\",\\\"RandomForest\\\",\\\"ExtremeRandomTrees\\\",\\\"DecisionTree\\\",\\\"XGBoostClassifier\\\",\\\"SGD\\\",\\\"GradientBoosting\\\",\\\"TensorFlowLinearClassifier\\\",\\\"LinearSVM\\\",\\\"LightGBM\\\",\\\"AveragedPerceptronClassifier\\\",\\\"LogisticRegression\\\",\\\"BernoulliNaiveBayes\\\",\\\"TensorFlowDNN\\\"],\\\"auto_blacklist\\\":true,\\\"blacklist_samples_reached\\\":false,\\\"exclude_nan_labels\\\":true,\\\"verbosity\\\":20,\\\"_debug_log\\\":\\\"azureml_automl.log\\\",\\\"show_warnings\\\":false,\\\"model_explainability\\\":true,\\\"service_url\\\":null,\\\"sdk_url\\\":null,\\\"sdk_packages\\\":null,\\\"enable_onnx_compatible_models\\\":false,\\\"enable_split_onnx_featurizer_estimator_models\\\":false,\\\"vm_type\\\":\\\"STANDARD_DS2_V2\\\",\\\"telemetry_verbosity\\\":20,\\\"send_telemetry\\\":true,\\\"enable_dnn\\\":false,\\\"scenario\\\":\\\"SDK-1.13.0\\\",\\\"environment_label\\\":null,\\\"force_text_dnn\\\":false,\\\"enable_feature_sweeping\\\":true,\\\"enable_early_stopping\\\":true,\\\"early_stopping_n_iters\\\":10,\\\"metrics\\\":null,\\\"enable_ensembling\\\":true,\\\"enable_stack_ensembling\\\":true,\\\"ensemble_iterations\\\":15,\\\"enable_tf\\\":false,\\\"enable_subsampling\\\":null,\\\"subsample_seed\\\":null,\\\"enable_nimbusml\\\":false,\\\"enable_streaming\\\":false,\\\"force_streaming\\\":false,\\\"track_child_runs\\\":true,\\\"allowed_private_models\\\":[],\\\"label_column_name\\\":\\\"DEATH_EVENT\\\",\\\"weight_column_name\\\":null,\\\"cv_split_column_names\\\":null,\\\"enable_local_managed\\\":false,\\\"_local_managed_run_id\\\":null,\\\"cost_mode\\\":1,\\\"lag_length\\\":0,\\\"metric_operation\\\":\\\"maximize\\\",\\\"preprocess\\\":true}\", \"DataPrepJsonString\": \"{\\\\\\\"training_data\\\\\\\": \\\\\\\"{\\\\\\\\\\\\\\\"blocks\\\\\\\\\\\\\\\": [{\\\\\\\\\\\\\\\"id\\\\\\\\\\\\\\\": \\\\\\\\\\\\\\\"57661523-1812-4172-b5d4-ec4446657d6e\\\\\\\\\\\\\\\", \\\\\\\\\\\\\\\"type\\\\\\\\\\\\\\\": \\\\\\\\\\\\\\\"Microsoft.DPrep.GetDatastoreFilesBlock\\\\\\\\\\\\\\\", \\\\\\\\\\\\\\\"arguments\\\\\\\\\\\\\\\": {\\\\\\\\\\\\\\\"datastores\\\\\\\\\\\\\\\": [{\\\\\\\\\\\\\\\"datastoreName\\\\\\\\\\\\\\\": \\\\\\\\\\\\\\\"workspaceblobstore\\\\\\\\\\\\\\\", \\\\\\\\\\\\\\\"path\\\\\\\\\\\\\\\": \\\\\\\\\\\\\\\"UI/02-07-2021_081157_UTC/heart_failure_clinical_records_dataset.csv\\\\\\\\\\\\\\\", \\\\\\\\\\\\\\\"resourceGroup\\\\\\\\\\\\\\\": \\\\\\\\\\\\\\\"aml-quickstarts-137784\\\\\\\\\\\\\\\", \\\\\\\\\\\\\\\"subscription\\\\\\\\\\\\\\\": \\\\\\\\\\\\\\\"9b72f9e6-56c5-4c16-991b-19c652994860\\\\\\\\\\\\\\\", \\\\\\\\\\\\\\\"workspaceName\\\\\\\\\\\\\\\": \\\\\\\\\\\\\\\"quick-starts-ws-137784\\\\\\\\\\\\\\\"}]}, \\\\\\\\\\\\\\\"localData\\\\\\\\\\\\\\\": {}, \\\\\\\\\\\\\\\"isEnabled\\\\\\\\\\\\\\\": true, \\\\\\\\\\\\\\\"name\\\\\\\\\\\\\\\": null, \\\\\\\\\\\\\\\"annotation\\\\\\\\\\\\\\\": null}, {\\\\\\\\\\\\\\\"id\\\\\\\\\\\\\\\": \\\\\\\\\\\\\\\"d7106ef3-20d4-4081-8bf3-e31b57967e3a\\\\\\\\\\\\\\\", \\\\\\\\\\\\\\\"type\\\\\\\\\\\\\\\": \\\\\\\\\\\\\\\"Microsoft.DPrep.ParseDelimitedBlock\\\\\\\\\\\\\\\", \\\\\\\\\\\\\\\"arguments\\\\\\\\\\\\\\\": {\\\\\\\\\\\\\\\"columnHeadersMode\\\\\\\\\\\\\\\": 3, \\\\\\\\\\\\\\\"fileEncoding\\\\\\\\\\\\\\\": 0, \\\\\\\\\\\\\\\"handleQuotedLineBreaks\\\\\\\\\\\\\\\": false, \\\\\\\\\\\\\\\"preview\\\\\\\\\\\\\\\": false, \\\\\\\\\\\\\\\"separator\\\\\\\\\\\\\\\": \\\\\\\\\\\\\\\",\\\\\\\\\\\\\\\", \\\\\\\\\\\\\\\"skipRows\\\\\\\\\\\\\\\": 0, \\\\\\\\\\\\\\\"skipRowsMode\\\\\\\\\\\\\\\": 0}, \\\\\\\\\\\\\\\"localData\\\\\\\\\\\\\\\": {}, \\\\\\\\\\\\\\\"isEnabled\\\\\\\\\\\\\\\": true, \\\\\\\\\\\\\\\"name\\\\\\\\\\\\\\\": null, \\\\\\\\\\\\\\\"annotation\\\\\\\\\\\\\\\": null}, {\\\\\\\\\\\\\\\"id\\\\\\\\\\\\\\\": \\\\\\\\\\\\\\\"ab4fa876-bf77-48b4-ab17-9671a30a534e\\\\\\\\\\\\\\\", \\\\\\\\\\\\\\\"type\\\\\\\\\\\\\\\": \\\\\\\\\\\\\\\"Microsoft.DPrep.DropColumnsBlock\\\\\\\\\\\\\\\", \\\\\\\\\\\\\\\"arguments\\\\\\\\\\\\\\\": {\\\\\\\\\\\\\\\"columns\\\\\\\\\\\\\\\": {\\\\\\\\\\\\\\\"type\\\\\\\\\\\\\\\": 0, \\\\\\\\\\\\\\\"details\\\\\\\\\\\\\\\": {\\\\\\\\\\\\\\\"selectedColumns\\\\\\\\\\\\\\\": [\\\\\\\\\\\\\\\"Path\\\\\\\\\\\\\\\"]}}}, \\\\\\\\\\\\\\\"localData\\\\\\\\\\\\\\\": {}, \\\\\\\\\\\\\\\"isEnabled\\\\\\\\\\\\\\\": true, \\\\\\\\\\\\\\\"name\\\\\\\\\\\\\\\": null, \\\\\\\\\\\\\\\"annotation\\\\\\\\\\\\\\\": null}, {\\\\\\\\\\\\\\\"id\\\\\\\\\\\\\\\": \\\\\\\\\\\\\\\"14d04343-d6ef-4ef3-a1d6-714a3f2b9e43\\\\\\\\\\\\\\\", \\\\\\\\\\\\\\\"type\\\\\\\\\\\\\\\": \\\\\\\\\\\\\\\"Microsoft.DPrep.SetColumnTypesBlock\\\\\\\\\\\\\\\", \\\\\\\\\\\\\\\"arguments\\\\\\\\\\\\\\\": {\\\\\\\\\\\\\\\"columnConversion\\\\\\\\\\\\\\\": [{\\\\\\\\\\\\\\\"column\\\\\\\\\\\\\\\": {\\\\\\\\\\\\\\\"type\\\\\\\\\\\\\\\": 2, \\\\\\\\\\\\\\\"details\\\\\\\\\\\\\\\": {\\\\\\\\\\\\\\\"selectedColumn\\\\\\\\\\\\\\\": \\\\\\\\\\\\\\\"Path\\\\\\\\\\\\\\\"}}, \\\\\\\\\\\\\\\"typeProperty\\\\\\\\\\\\\\\": 0}, {\\\\\\\\\\\\\\\"column\\\\\\\\\\\\\\\": {\\\\\\\\\\\\\\\"type\\\\\\\\\\\\\\\": 2, \\\\\\\\\\\\\\\"details\\\\\\\\\\\\\\\": {\\\\\\\\\\\\\\\"selectedColumn\\\\\\\\\\\\\\\": \\\\\\\\\\\\\\\"age\\\\\\\\\\\\\\\"}}, \\\\\\\\\\\\\\\"typeProperty\\\\\\\\\\\\\\\": 3}, {\\\\\\\\\\\\\\\"column\\\\\\\\\\\\\\\": {\\\\\\\\\\\\\\\"type\\\\\\\\\\\\\\\": 2, \\\\\\\\\\\\\\\"details\\\\\\\\\\\\\\\": {\\\\\\\\\\\\\\\"selectedColumn\\\\\\\\\\\\\\\": \\\\\\\\\\\\\\\"anaemia\\\\\\\\\\\\\\\"}}, \\\\\\\\\\\\\\\"typeProperty\\\\\\\\\\\\\\\": 2}, {\\\\\\\\\\\\\\\"column\\\\\\\\\\\\\\\": {\\\\\\\\\\\\\\\"type\\\\\\\\\\\\\\\": 2, \\\\\\\\\\\\\\\"details\\\\\\\\\\\\\\\": {\\\\\\\\\\\\\\\"selectedColumn\\\\\\\\\\\\\\\": \\\\\\\\\\\\\\\"creatinine_phosphokinase\\\\\\\\\\\\\\\"}}, \\\\\\\\\\\\\\\"typeProperty\\\\\\\\\\\\\\\": 2}, {\\\\\\\\\\\\\\\"column\\\\\\\\\\\\\\\": {\\\\\\\\\\\\\\\"type\\\\\\\\\\\\\\\": 2, \\\\\\\\\\\\\\\"details\\\\\\\\\\\\\\\": {\\\\\\\\\\\\\\\"selectedColumn\\\\\\\\\\\\\\\": \\\\\\\\\\\\\\\"diabetes\\\\\\\\\\\\\\\"}}, \\\\\\\\\\\\\\\"typeProperty\\\\\\\\\\\\\\\": 2}, {\\\\\\\\\\\\\\\"column\\\\\\\\\\\\\\\": {\\\\\\\\\\\\\\\"type\\\\\\\\\\\\\\\": 2, \\\\\\\\\\\\\\\"details\\\\\\\\\\\\\\\": {\\\\\\\\\\\\\\\"selectedColumn\\\\\\\\\\\\\\\": \\\\\\\\\\\\\\\"ejection_fraction\\\\\\\\\\\\\\\"}}, \\\\\\\\\\\\\\\"typeProperty\\\\\\\\\\\\\\\": 2}, {\\\\\\\\\\\\\\\"column\\\\\\\\\\\\\\\": {\\\\\\\\\\\\\\\"type\\\\\\\\\\\\\\\": 2, \\\\\\\\\\\\\\\"details\\\\\\\\\\\\\\\": {\\\\\\\\\\\\\\\"selectedColumn\\\\\\\\\\\\\\\": \\\\\\\\\\\\\\\"high_blood_pressure\\\\\\\\\\\\\\\"}}, \\\\\\\\\\\\\\\"typeProperty\\\\\\\\\\\\\\\": 2}, {\\\\\\\\\\\\\\\"column\\\\\\\\\\\\\\\": {\\\\\\\\\\\\\\\"type\\\\\\\\\\\\\\\": 2, \\\\\\\\\\\\\\\"details\\\\\\\\\\\\\\\": {\\\\\\\\\\\\\\\"selectedColumn\\\\\\\\\\\\\\\": \\\\\\\\\\\\\\\"platelets\\\\\\\\\\\\\\\"}}, \\\\\\\\\\\\\\\"typeProperty\\\\\\\\\\\\\\\": 3}, {\\\\\\\\\\\\\\\"column\\\\\\\\\\\\\\\": {\\\\\\\\\\\\\\\"type\\\\\\\\\\\\\\\": 2, \\\\\\\\\\\\\\\"details\\\\\\\\\\\\\\\": {\\\\\\\\\\\\\\\"selectedColumn\\\\\\\\\\\\\\\": \\\\\\\\\\\\\\\"serum_creatinine\\\\\\\\\\\\\\\"}}, \\\\\\\\\\\\\\\"typeProperty\\\\\\\\\\\\\\\": 3}, {\\\\\\\\\\\\\\\"column\\\\\\\\\\\\\\\": {\\\\\\\\\\\\\\\"type\\\\\\\\\\\\\\\": 2, \\\\\\\\\\\\\\\"details\\\\\\\\\\\\\\\": {\\\\\\\\\\\\\\\"selectedColumn\\\\\\\\\\\\\\\": \\\\\\\\\\\\\\\"serum_sodium\\\\\\\\\\\\\\\"}}, \\\\\\\\\\\\\\\"typeProperty\\\\\\\\\\\\\\\": 2}, {\\\\\\\\\\\\\\\"column\\\\\\\\\\\\\\\": {\\\\\\\\\\\\\\\"type\\\\\\\\\\\\\\\": 2, \\\\\\\\\\\\\\\"details\\\\\\\\\\\\\\\": {\\\\\\\\\\\\\\\"selectedColumn\\\\\\\\\\\\\\\": \\\\\\\\\\\\\\\"sex\\\\\\\\\\\\\\\"}}, \\\\\\\\\\\\\\\"typeProperty\\\\\\\\\\\\\\\": 2}, {\\\\\\\\\\\\\\\"column\\\\\\\\\\\\\\\": {\\\\\\\\\\\\\\\"type\\\\\\\\\\\\\\\": 2, \\\\\\\\\\\\\\\"details\\\\\\\\\\\\\\\": {\\\\\\\\\\\\\\\"selectedColumn\\\\\\\\\\\\\\\": \\\\\\\\\\\\\\\"smoking\\\\\\\\\\\\\\\"}}, \\\\\\\\\\\\\\\"typeProperty\\\\\\\\\\\\\\\": 2}, {\\\\\\\\\\\\\\\"column\\\\\\\\\\\\\\\": {\\\\\\\\\\\\\\\"type\\\\\\\\\\\\\\\": 2, \\\\\\\\\\\\\\\"details\\\\\\\\\\\\\\\": {\\\\\\\\\\\\\\\"selectedColumn\\\\\\\\\\\\\\\": \\\\\\\\\\\\\\\"time\\\\\\\\\\\\\\\"}}, \\\\\\\\\\\\\\\"typeProperty\\\\\\\\\\\\\\\": 2}, {\\\\\\\\\\\\\\\"column\\\\\\\\\\\\\\\": {\\\\\\\\\\\\\\\"type\\\\\\\\\\\\\\\": 2, \\\\\\\\\\\\\\\"details\\\\\\\\\\\\\\\": {\\\\\\\\\\\\\\\"selectedColumn\\\\\\\\\\\\\\\": \\\\\\\\\\\\\\\"DEATH_EVENT\\\\\\\\\\\\\\\"}}, \\\\\\\\\\\\\\\"typeProperty\\\\\\\\\\\\\\\": 2}]}, \\\\\\\\\\\\\\\"localData\\\\\\\\\\\\\\\": {}, \\\\\\\\\\\\\\\"isEnabled\\\\\\\\\\\\\\\": true, \\\\\\\\\\\\\\\"name\\\\\\\\\\\\\\\": null, \\\\\\\\\\\\\\\"annotation\\\\\\\\\\\\\\\": null}], \\\\\\\\\\\\\\\"inspectors\\\\\\\\\\\\\\\": [], \\\\\\\\\\\\\\\"meta\\\\\\\\\\\\\\\": {\\\\\\\\\\\\\\\"savedDatasetId\\\\\\\\\\\\\\\": \\\\\\\\\\\\\\\"40888347-cd31-4b35-80a4-775ccc26242a\\\\\\\\\\\\\\\", \\\\\\\\\\\\\\\"datasetType\\\\\\\\\\\\\\\": \\\\\\\\\\\\\\\"tabular\\\\\\\\\\\\\\\", \\\\\\\\\\\\\\\"subscriptionId\\\\\\\\\\\\\\\": \\\\\\\\\\\\\\\"9b72f9e6-56c5-4c16-991b-19c652994860\\\\\\\\\\\\\\\", \\\\\\\\\\\\\\\"workspaceId\\\\\\\\\\\\\\\": \\\\\\\\\\\\\\\"05bd17e7-db98-468b-ad98-92fd2dec8799\\\\\\\\\\\\\\\", \\\\\\\\\\\\\\\"workspaceLocation\\\\\\\\\\\\\\\": \\\\\\\\\\\\\\\"southcentralus\\\\\\\\\\\\\\\"}}\\\\\\\", \\\\\\\"activities\\\\\\\": 0}\", \"EnableSubsampling\": null, \"runTemplate\": \"AutoML\", \"azureml.runsource\": \"automl\", \"display_task_type\": \"classification\", \"dependencies_versions\": \"{\\\"azureml-widgets\\\": \\\"1.20.0\\\", \\\"azureml-train\\\": \\\"1.20.0\\\", \\\"azureml-train-restclients-hyperdrive\\\": \\\"1.20.0\\\", \\\"azureml-train-core\\\": \\\"1.20.0\\\", \\\"azureml-train-automl\\\": \\\"1.20.0\\\", \\\"azureml-train-automl-runtime\\\": \\\"1.20.0\\\", \\\"azureml-train-automl-client\\\": \\\"1.20.0\\\", \\\"azureml-tensorboard\\\": \\\"1.20.0\\\", \\\"azureml-telemetry\\\": \\\"1.20.0\\\", \\\"azureml-sdk\\\": \\\"1.20.0\\\", \\\"azureml-samples\\\": \\\"0+unknown\\\", \\\"azureml-pipeline\\\": \\\"1.20.0\\\", \\\"azureml-pipeline-steps\\\": \\\"1.20.0\\\", \\\"azureml-pipeline-core\\\": \\\"1.20.0\\\", \\\"azureml-opendatasets\\\": \\\"1.20.0\\\", \\\"azureml-model-management-sdk\\\": \\\"1.0.1b6.post1\\\", \\\"azureml-mlflow\\\": \\\"1.20.0.post1\\\", \\\"azureml-interpret\\\": \\\"1.20.0\\\", \\\"azureml-explain-model\\\": \\\"1.20.0\\\", \\\"azureml-defaults\\\": \\\"1.20.0\\\", \\\"azureml-dataset-runtime\\\": \\\"1.20.0\\\", \\\"azureml-dataprep\\\": \\\"2.7.3\\\", \\\"azureml-dataprep-rslex\\\": \\\"1.5.0\\\", \\\"azureml-dataprep-native\\\": \\\"27.0.0\\\", \\\"azureml-datadrift\\\": \\\"1.20.0\\\", \\\"azureml-core\\\": \\\"1.20.0\\\", \\\"azureml-contrib-services\\\": \\\"1.20.0\\\", \\\"azureml-contrib-server\\\": \\\"1.20.0\\\", \\\"azureml-contrib-reinforcementlearning\\\": \\\"1.20.0\\\", \\\"azureml-contrib-pipeline-steps\\\": \\\"1.20.0\\\", \\\"azureml-contrib-notebook\\\": \\\"1.20.0\\\", \\\"azureml-contrib-interpret\\\": \\\"1.20.0\\\", \\\"azureml-contrib-gbdt\\\": \\\"1.20.0\\\", \\\"azureml-contrib-fairness\\\": \\\"1.20.0\\\", \\\"azureml-contrib-dataset\\\": \\\"1.20.0\\\", \\\"azureml-cli-common\\\": \\\"1.20.0\\\", \\\"azureml-automl-runtime\\\": \\\"1.20.0\\\", \\\"azureml-automl-core\\\": \\\"1.20.0\\\", \\\"azureml-accel-models\\\": \\\"1.20.0\\\"}\", \"_aml_system_scenario_identification\": \"Remote.Parent\", \"ClientType\": \"SDK\", \"environment_cpu_name\": \"AzureML-AutoML\", \"environment_cpu_label\": \"prod\", \"environment_gpu_name\": \"AzureML-AutoML-GPU\", \"environment_gpu_label\": \"prod\", \"root_attribution\": \"automl\", \"attribution\": \"AutoML\", \"Orchestrator\": \"AutoML\", \"CancelUri\": \"https://southcentralus.experiments.azureml.net/jasmine/v1.0/subscriptions/9b72f9e6-56c5-4c16-991b-19c652994860/resourceGroups/aml-quickstarts-137784/providers/Microsoft.MachineLearningServices/workspaces/quick-starts-ws-137784/experimentids/7d8279f5-c692-4877-a723-f4ae29322511/cancel/AutoML_5031ebf5-453b-47d8-b21e-a09dfb5c0976\", \"ClientSdkVersion\": \"1.21.0\", \"snapshotId\": \"00000000-0000-0000-0000-000000000000\", \"SetupRunId\": \"AutoML_5031ebf5-453b-47d8-b21e-a09dfb5c0976_setup\", \"SetupRunContainerId\": \"dcid.AutoML_5031ebf5-453b-47d8-b21e-a09dfb5c0976_setup\", \"FeaturizationRunJsonPath\": \"featurizer_container.json\", \"FeaturizationRunId\": \"AutoML_5031ebf5-453b-47d8-b21e-a09dfb5c0976_featurize\", \"ProblemInfoJsonString\": \"{\\\"dataset_num_categorical\\\": 0, \\\"is_sparse\\\": false, \\\"subsampling\\\": false, \\\"dataset_classes\\\": 2, \\\"dataset_features\\\": 12, \\\"dataset_samples\\\": 299, \\\"single_frequency_class_detected\\\": false}\", \"ModelExplainRunId\": \"AutoML_5031ebf5-453b-47d8-b21e-a09dfb5c0976_ModelExplain\"}, \"tags\": {\"model_explain_run\": \"best_run\", \"_aml_system_azureml.automlComponent\": \"AutoML\", \"pipeline_id\": \"\", \"score\": \"\", \"predicted_cost\": \"\", \"fit_time\": \"\", \"training_percent\": \"\", \"iteration\": \"\", \"run_preprocessor\": \"\", \"run_algorithm\": \"\", \"dynamic_whitelisting_iterations\": \"<25>;<29>;<35>;\", \"automl_best_child_run_id\": \"AutoML_5031ebf5-453b-47d8-b21e-a09dfb5c0976_38\", \"model_explain_best_run_child_id\": \"AutoML_5031ebf5-453b-47d8-b21e-a09dfb5c0976_38\"}, \"end_time_utc\": \"2021-02-07T08:53:50.75184Z\", \"status\": \"Completed\", \"log_files\": {}, \"log_groups\": [], \"run_duration\": \"0:16:58\"}, \"child_runs\": [{\"run_id\": \"AutoML_5031ebf5-453b-47d8-b21e-a09dfb5c0976_0\", \"run_number\": 5, \"metric\": null, \"status\": \"Completed\", \"run_type\": \"azureml.scriptrun\", \"training_percent\": \"100\", \"start_time\": \"2021-02-07T08:41:57.209699Z\", \"end_time\": \"2021-02-07T08:42:52.879321Z\", \"created_time\": \"2021-02-07T08:41:40.991712Z\", \"created_time_dt\": \"2021-02-07T08:41:40.991712Z\", \"duration\": \"0:01:11\", \"iteration\": \"0\", \"goal\": \"accuracy_max\", \"run_name\": \"MaxAbsScaler, LightGBM\", \"run_properties\": \"copy=True\", \"primary_metric\": 0.83597701, \"best_metric\": 0.83597701}, {\"run_id\": \"AutoML_5031ebf5-453b-47d8-b21e-a09dfb5c0976_1\", \"run_number\": 6, \"metric\": null, \"status\": \"Completed\", \"run_type\": \"azureml.scriptrun\", \"training_percent\": \"100\", \"start_time\": \"2021-02-07T08:41:56.637361Z\", \"end_time\": \"2021-02-07T08:42:56.511311Z\", \"created_time\": \"2021-02-07T08:41:41.027379Z\", \"created_time_dt\": \"2021-02-07T08:41:41.027379Z\", \"duration\": \"0:01:15\", \"iteration\": \"1\", \"goal\": \"accuracy_max\", \"run_name\": \"MaxAbsScaler, XGBoostClassifier\", \"run_properties\": \"copy=True\", \"primary_metric\": 0.83586207, \"best_metric\": 0.83597701}, {\"run_id\": \"AutoML_5031ebf5-453b-47d8-b21e-a09dfb5c0976_4\", \"run_number\": 7, \"metric\": null, \"status\": \"Completed\", \"run_type\": \"azureml.scriptrun\", \"training_percent\": \"100\", \"start_time\": \"2021-02-07T08:41:56.908136Z\", \"end_time\": \"2021-02-07T08:42:56.263742Z\", \"created_time\": \"2021-02-07T08:41:41.159408Z\", \"created_time_dt\": \"2021-02-07T08:41:41.159408Z\", \"duration\": \"0:01:15\", \"iteration\": \"4\", \"goal\": \"accuracy_max\", \"run_name\": \"MinMaxScaler, RandomForest\", \"run_properties\": \"copy=True, feature_range=(0, 1\", \"primary_metric\": 0.82586207, \"best_metric\": 0.84609195}, {\"run_id\": \"AutoML_5031ebf5-453b-47d8-b21e-a09dfb5c0976_3\", \"run_number\": 8, \"metric\": null, \"status\": \"Completed\", \"run_type\": \"azureml.scriptrun\", \"training_percent\": \"100\", \"start_time\": \"2021-02-07T08:42:56.198151Z\", \"end_time\": \"2021-02-07T08:43:49.794473Z\", \"created_time\": \"2021-02-07T08:41:41.196746Z\", \"created_time_dt\": \"2021-02-07T08:41:41.196746Z\", \"duration\": \"0:02:08\", \"iteration\": \"3\", \"goal\": \"accuracy_max\", \"run_name\": \"MinMaxScaler, RandomForest\", \"run_properties\": \"copy=True, feature_range=(0, 1\", \"primary_metric\": 0.84609195, \"best_metric\": 0.84609195}, {\"run_id\": \"AutoML_5031ebf5-453b-47d8-b21e-a09dfb5c0976_2\", \"run_number\": 9, \"metric\": null, \"status\": \"Completed\", \"run_type\": \"azureml.scriptrun\", \"training_percent\": \"100\", \"start_time\": \"2021-02-07T08:41:56.397928Z\", \"end_time\": \"2021-02-07T08:42:58.134646Z\", \"created_time\": \"2021-02-07T08:41:41.209184Z\", \"created_time_dt\": \"2021-02-07T08:41:41.209184Z\", \"duration\": \"0:01:16\", \"iteration\": \"2\", \"goal\": \"accuracy_max\", \"run_name\": \"MinMaxScaler, RandomForest\", \"run_properties\": \"copy=True, feature_range=(0, 1\", \"primary_metric\": 0.83275862, \"best_metric\": 0.83597701}, {\"run_id\": \"AutoML_5031ebf5-453b-47d8-b21e-a09dfb5c0976_5\", \"run_number\": 10, \"metric\": null, \"status\": \"Completed\", \"run_type\": \"azureml.scriptrun\", \"training_percent\": \"100\", \"start_time\": \"2021-02-07T08:43:08.525061Z\", \"end_time\": \"2021-02-07T08:43:56.561182Z\", \"created_time\": \"2021-02-07T08:42:55.037064Z\", \"created_time_dt\": \"2021-02-07T08:42:55.037064Z\", \"duration\": \"0:01:01\", \"iteration\": \"5\", \"goal\": \"accuracy_max\", \"run_name\": \"TruncatedSVDWrapper, XGBoostClassifier\", \"run_properties\": \"n_components=0.95, random_state=None\", \"primary_metric\": 0.78229885, \"best_metric\": 0.84609195}, {\"run_id\": \"AutoML_5031ebf5-453b-47d8-b21e-a09dfb5c0976_6\", \"run_number\": 11, \"metric\": null, \"status\": \"Completed\", \"run_type\": \"azureml.scriptrun\", \"training_percent\": \"100\", \"start_time\": \"2021-02-07T08:43:52.382384Z\", \"end_time\": \"2021-02-07T08:44:56.174788Z\", \"created_time\": \"2021-02-07T08:43:02.438424Z\", \"created_time_dt\": \"2021-02-07T08:43:02.438424Z\", \"duration\": \"0:01:53\", \"iteration\": \"6\", \"goal\": \"accuracy_max\", \"run_name\": \"MinMaxScaler, SVM\", \"run_properties\": \"copy=True, feature_range=(0, 1\", \"primary_metric\": 0.72252874, \"best_metric\": 0.84609195}, {\"run_id\": \"AutoML_5031ebf5-453b-47d8-b21e-a09dfb5c0976_7\", \"run_number\": 12, \"metric\": null, \"status\": \"Completed\", \"run_type\": \"azureml.scriptrun\", \"training_percent\": \"100\", \"start_time\": \"2021-02-07T08:43:15.936831Z\", \"end_time\": \"2021-02-07T08:44:27.705159Z\", \"created_time\": \"2021-02-07T08:43:02.620048Z\", \"created_time_dt\": \"2021-02-07T08:43:02.620048Z\", \"duration\": \"0:01:25\", \"iteration\": \"7\", \"goal\": \"accuracy_max\", \"run_name\": \"SparseNormalizer, XGBoostClassifier\", \"run_properties\": \"<azureml.automl.runtime.shared.model_wrappers.SparseNormalizer object at 0x7f5ba0364400\", \"primary_metric\": 0.83275862, \"best_metric\": 0.84609195}, {\"run_id\": \"AutoML_5031ebf5-453b-47d8-b21e-a09dfb5c0976_8\", \"run_number\": 13, \"metric\": null, \"status\": \"Completed\", \"run_type\": \"azureml.scriptrun\", \"training_percent\": \"100\", \"start_time\": \"2021-02-07T08:43:13.302867Z\", \"end_time\": \"2021-02-07T08:44:25.52206Z\", \"created_time\": \"2021-02-07T08:43:02.686192Z\", \"created_time_dt\": \"2021-02-07T08:43:02.686192Z\", \"duration\": \"0:01:22\", \"iteration\": \"8\", \"goal\": \"accuracy_max\", \"run_name\": \"RobustScaler, SVM\", \"run_properties\": \"copy=True, quantile_range=[10, 90], with_centering=True,\\n             with_scaling=True\", \"primary_metric\": 0.71563218, \"best_metric\": 0.84609195}, {\"run_id\": \"AutoML_5031ebf5-453b-47d8-b21e-a09dfb5c0976_9\", \"run_number\": 14, \"metric\": null, \"status\": \"Completed\", \"run_type\": \"azureml.scriptrun\", \"training_percent\": \"100\", \"start_time\": \"2021-02-07T08:44:03.606578Z\", \"end_time\": \"2021-02-07T08:44:55.058559Z\", \"created_time\": \"2021-02-07T08:43:52.733115Z\", \"created_time_dt\": \"2021-02-07T08:43:52.733115Z\", \"duration\": \"0:01:02\", \"iteration\": \"9\", \"goal\": \"accuracy_max\", \"run_name\": \"SparseNormalizer, XGBoostClassifier\", \"run_properties\": \"<azureml.automl.runtime.shared.model_wrappers.SparseNormalizer object at 0x7f7e3c6c9be0\", \"primary_metric\": 0.82287356, \"best_metric\": 0.84609195}, {\"run_id\": \"AutoML_5031ebf5-453b-47d8-b21e-a09dfb5c0976_10\", \"run_number\": 15, \"metric\": null, \"status\": \"Completed\", \"run_type\": \"azureml.scriptrun\", \"training_percent\": \"100\", \"start_time\": \"2021-02-07T08:44:27.208473Z\", \"end_time\": \"2021-02-07T08:45:33.893325Z\", \"created_time\": \"2021-02-07T08:43:58.796866Z\", \"created_time_dt\": \"2021-02-07T08:43:58.796866Z\", \"duration\": \"0:01:35\", \"iteration\": \"10\", \"goal\": \"accuracy_max\", \"run_name\": \"SparseNormalizer, XGBoostClassifier\", \"run_properties\": \"<azureml.automl.runtime.shared.model_wrappers.SparseNormalizer object at 0x7fdc25bc0b00\", \"primary_metric\": 0.83931034, \"best_metric\": 0.84609195}, {\"run_id\": \"AutoML_5031ebf5-453b-47d8-b21e-a09dfb5c0976_11\", \"run_number\": 16, \"metric\": null, \"status\": \"Completed\", \"run_type\": \"azureml.scriptrun\", \"training_percent\": \"100\", \"start_time\": \"2021-02-07T08:44:41.223371Z\", \"end_time\": \"2021-02-07T08:45:36.94351Z\", \"created_time\": \"2021-02-07T08:44:28.647124Z\", \"created_time_dt\": \"2021-02-07T08:44:28.647124Z\", \"duration\": \"0:01:08\", \"iteration\": \"11\", \"goal\": \"accuracy_max\", \"run_name\": \"SparseNormalizer, XGBoostClassifier\", \"run_properties\": \"<azureml.automl.runtime.shared.model_wrappers.SparseNormalizer object at 0x7f918844e4e0\", \"primary_metric\": 0.80931034, \"best_metric\": 0.84609195}, {\"run_id\": \"AutoML_5031ebf5-453b-47d8-b21e-a09dfb5c0976_12\", \"run_number\": 17, \"metric\": null, \"status\": \"Completed\", \"run_type\": \"azureml.scriptrun\", \"training_percent\": \"100\", \"start_time\": \"2021-02-07T08:44:58.416828Z\", \"end_time\": \"2021-02-07T08:45:53.177664Z\", \"created_time\": \"2021-02-07T08:44:34.032425Z\", \"created_time_dt\": \"2021-02-07T08:44:34.032425Z\", \"duration\": \"0:01:19\", \"iteration\": \"12\", \"goal\": \"accuracy_max\", \"run_name\": \"StandardScalerWrapper, RandomForest\", \"run_properties\": \"<azureml.automl.runtime.shared.model_wrappers.StandardScalerWrapper object at 0x7f6e0d2af630\", \"primary_metric\": 0.84264368, \"best_metric\": 0.84609195}, {\"run_id\": \"AutoML_5031ebf5-453b-47d8-b21e-a09dfb5c0976_13\", \"run_number\": 18, \"metric\": null, \"status\": \"Completed\", \"run_type\": \"azureml.scriptrun\", \"training_percent\": \"100\", \"start_time\": \"2021-02-07T08:45:10.00974Z\", \"end_time\": \"2021-02-07T08:46:00.668721Z\", \"created_time\": \"2021-02-07T08:44:57.68583Z\", \"created_time_dt\": \"2021-02-07T08:44:57.68583Z\", \"duration\": \"0:01:02\", \"iteration\": \"13\", \"goal\": \"accuracy_max\", \"run_name\": \"StandardScalerWrapper, LightGBM\", \"run_properties\": \"<azureml.automl.runtime.shared.model_wrappers.StandardScalerWrapper object at 0x7f5c63f8b0b8\", \"primary_metric\": 0.8491954, \"best_metric\": 0.8491954}, {\"run_id\": \"AutoML_5031ebf5-453b-47d8-b21e-a09dfb5c0976_14\", \"run_number\": 19, \"metric\": null, \"status\": \"Completed\", \"run_type\": \"azureml.scriptrun\", \"training_percent\": \"100\", \"start_time\": \"2021-02-07T08:45:38.171843Z\", \"end_time\": \"2021-02-07T08:46:31.665767Z\", \"created_time\": \"2021-02-07T08:45:01.992995Z\", \"created_time_dt\": \"2021-02-07T08:45:01.992995Z\", \"duration\": \"0:01:29\", \"iteration\": \"14\", \"goal\": \"accuracy_max\", \"run_name\": \"SparseNormalizer, LightGBM\", \"run_properties\": \"<azureml.automl.runtime.shared.model_wrappers.SparseNormalizer object at 0x7f14c00f0828\", \"primary_metric\": 0.83287356, \"best_metric\": 0.8491954}, {\"run_id\": \"AutoML_5031ebf5-453b-47d8-b21e-a09dfb5c0976_15\", \"run_number\": 20, \"metric\": null, \"status\": \"Completed\", \"run_type\": \"azureml.scriptrun\", \"training_percent\": \"100\", \"start_time\": \"2021-02-07T08:45:49.433882Z\", \"end_time\": \"2021-02-07T08:46:38.521995Z\", \"created_time\": \"2021-02-07T08:45:36.360348Z\", \"created_time_dt\": \"2021-02-07T08:45:36.360348Z\", \"duration\": \"0:01:02\", \"iteration\": \"15\", \"goal\": \"accuracy_max\", \"run_name\": \"StandardScalerWrapper, LightGBM\", \"run_properties\": \"<azureml.automl.runtime.shared.model_wrappers.StandardScalerWrapper object at 0x7f315a756668\", \"primary_metric\": 0.82264368, \"best_metric\": 0.8491954}, {\"run_id\": \"AutoML_5031ebf5-453b-47d8-b21e-a09dfb5c0976_16\", \"run_number\": 21, \"metric\": null, \"status\": \"Completed\", \"run_type\": \"azureml.scriptrun\", \"training_percent\": \"100\", \"start_time\": \"2021-02-07T08:45:56.332671Z\", \"end_time\": \"2021-02-07T08:46:54.546769Z\", \"created_time\": \"2021-02-07T08:45:41.149875Z\", \"created_time_dt\": \"2021-02-07T08:45:41.149875Z\", \"duration\": \"0:01:13\", \"iteration\": \"16\", \"goal\": \"accuracy_max\", \"run_name\": \"MaxAbsScaler, LightGBM\", \"run_properties\": \"copy=True\", \"primary_metric\": 0.83931034, \"best_metric\": 0.8491954}, {\"run_id\": \"AutoML_5031ebf5-453b-47d8-b21e-a09dfb5c0976_17\", \"run_number\": 22, \"metric\": null, \"status\": \"Completed\", \"run_type\": \"azureml.scriptrun\", \"training_percent\": \"100\", \"start_time\": \"2021-02-07T08:46:07.51959Z\", \"end_time\": \"2021-02-07T08:47:07.295246Z\", \"created_time\": \"2021-02-07T08:45:55.587648Z\", \"created_time_dt\": \"2021-02-07T08:45:55.587648Z\", \"duration\": \"0:01:11\", \"iteration\": \"17\", \"goal\": \"accuracy_max\", \"run_name\": \"StandardScalerWrapper, LightGBM\", \"run_properties\": \"<azureml.automl.runtime.shared.model_wrappers.StandardScalerWrapper object at 0x7fb4b080d710\", \"primary_metric\": 0.85287356, \"best_metric\": 0.85287356}, {\"run_id\": \"AutoML_5031ebf5-453b-47d8-b21e-a09dfb5c0976_18\", \"run_number\": 23, \"metric\": null, \"status\": \"Completed\", \"run_type\": \"azureml.scriptrun\", \"training_percent\": \"100\", \"start_time\": \"2021-02-07T08:46:35.830828Z\", \"end_time\": \"2021-02-07T08:47:44.003303Z\", \"created_time\": \"2021-02-07T08:46:03.341256Z\", \"created_time_dt\": \"2021-02-07T08:46:03.341256Z\", \"duration\": \"0:01:40\", \"iteration\": \"18\", \"goal\": \"accuracy_max\", \"run_name\": \"MaxAbsScaler, ExtremeRandomTrees\", \"run_properties\": \"copy=True\", \"primary_metric\": 0.84287356, \"best_metric\": 0.85287356}, {\"run_id\": \"AutoML_5031ebf5-453b-47d8-b21e-a09dfb5c0976_19\", \"run_number\": 24, \"metric\": null, \"status\": \"Completed\", \"run_type\": \"azureml.scriptrun\", \"training_percent\": \"100\", \"start_time\": \"2021-02-07T08:46:46.257163Z\", \"end_time\": \"2021-02-07T08:47:37.413087Z\", \"created_time\": \"2021-02-07T08:46:33.980188Z\", \"created_time_dt\": \"2021-02-07T08:46:33.980188Z\", \"duration\": \"0:01:03\", \"iteration\": \"19\", \"goal\": \"accuracy_max\", \"run_name\": \"RobustScaler, RandomForest\", \"run_properties\": \"copy=True, quantile_range=[10, 90], with_centering=True,\\n             with_scaling=True\", \"primary_metric\": 0.84252874, \"best_metric\": 0.85287356}, {\"run_id\": \"AutoML_5031ebf5-453b-47d8-b21e-a09dfb5c0976_20\", \"run_number\": 25, \"metric\": null, \"status\": \"Completed\", \"run_type\": \"azureml.scriptrun\", \"training_percent\": \"100\", \"start_time\": \"2021-02-07T08:46:59.289862Z\", \"end_time\": \"2021-02-07T08:47:59.502291Z\", \"created_time\": \"2021-02-07T08:46:41.491527Z\", \"created_time_dt\": \"2021-02-07T08:46:41.491527Z\", \"duration\": \"0:01:18\", \"iteration\": \"20\", \"goal\": \"accuracy_max\", \"run_name\": \"StandardScalerWrapper, LightGBM\", \"run_properties\": \"<azureml.automl.runtime.shared.model_wrappers.StandardScalerWrapper object at 0x7f0c7ddf6f98\", \"primary_metric\": 0.82597701, \"best_metric\": 0.85287356}, {\"run_id\": \"AutoML_5031ebf5-453b-47d8-b21e-a09dfb5c0976_21\", \"run_number\": 26, \"metric\": null, \"status\": \"Completed\", \"run_type\": \"azureml.scriptrun\", \"training_percent\": \"100\", \"start_time\": \"2021-02-07T08:47:10.575786Z\", \"end_time\": \"2021-02-07T08:48:12.628993Z\", \"created_time\": \"2021-02-07T08:46:57.239972Z\", \"created_time_dt\": \"2021-02-07T08:46:57.239972Z\", \"duration\": \"0:01:15\", \"iteration\": \"21\", \"goal\": \"accuracy_max\", \"run_name\": \"MinMaxScaler, LightGBM\", \"run_properties\": \"copy=True, feature_range=(0, 1\", \"primary_metric\": 0.82574713, \"best_metric\": 0.85287356}, {\"run_id\": \"AutoML_5031ebf5-453b-47d8-b21e-a09dfb5c0976_22\", \"run_number\": 27, \"metric\": null, \"status\": \"Completed\", \"run_type\": \"azureml.scriptrun\", \"training_percent\": \"100\", \"start_time\": \"2021-02-07T08:47:43.270804Z\", \"end_time\": \"2021-02-07T08:48:39.84602Z\", \"created_time\": \"2021-02-07T08:47:09.829315Z\", \"created_time_dt\": \"2021-02-07T08:47:09.829315Z\", \"duration\": \"0:01:30\", \"iteration\": \"22\", \"goal\": \"accuracy_max\", \"run_name\": \"TruncatedSVDWrapper, XGBoostClassifier\", \"run_properties\": \"n_components=0.95, random_state=None\", \"primary_metric\": 0.80252874, \"best_metric\": 0.85287356}, {\"run_id\": \"AutoML_5031ebf5-453b-47d8-b21e-a09dfb5c0976_23\", \"run_number\": 28, \"metric\": null, \"status\": \"Completed\", \"run_type\": \"azureml.scriptrun\", \"training_percent\": \"100\", \"start_time\": \"2021-02-07T08:47:53.308846Z\", \"end_time\": \"2021-02-07T08:48:42.92578Z\", \"created_time\": \"2021-02-07T08:47:39.771946Z\", \"created_time_dt\": \"2021-02-07T08:47:39.771946Z\", \"duration\": \"0:01:03\", \"iteration\": \"23\", \"goal\": \"accuracy_max\", \"run_name\": \"SparseNormalizer, XGBoostClassifier\", \"run_properties\": \"<azureml.automl.runtime.shared.model_wrappers.SparseNormalizer object at 0x7f78f2668080\", \"primary_metric\": 0.85287356, \"best_metric\": 0.85287356}, {\"run_id\": \"AutoML_5031ebf5-453b-47d8-b21e-a09dfb5c0976_24\", \"run_number\": 29, \"metric\": null, \"status\": \"Completed\", \"run_type\": \"azureml.scriptrun\", \"training_percent\": \"100\", \"start_time\": \"2021-02-07T08:48:04.203181Z\", \"end_time\": \"2021-02-07T08:49:08.114222Z\", \"created_time\": \"2021-02-07T08:47:46.35187Z\", \"created_time_dt\": \"2021-02-07T08:47:46.35187Z\", \"duration\": \"0:01:21\", \"iteration\": \"24\", \"goal\": \"accuracy_max\", \"run_name\": \"StandardScalerWrapper, XGBoostClassifier\", \"run_properties\": \"<azureml.automl.runtime.shared.model_wrappers.StandardScalerWrapper object at 0x7f2e181dae10\", \"primary_metric\": 0.80586207, \"best_metric\": 0.85287356}, {\"run_id\": \"AutoML_5031ebf5-453b-47d8-b21e-a09dfb5c0976_25\", \"run_number\": 30, \"metric\": null, \"status\": \"Completed\", \"run_type\": \"azureml.scriptrun\", \"training_percent\": \"100\", \"start_time\": \"2021-02-07T08:48:17.184107Z\", \"end_time\": \"2021-02-07T08:49:07.30389Z\", \"created_time\": \"2021-02-07T08:48:02.818799Z\", \"created_time_dt\": \"2021-02-07T08:48:02.818799Z\", \"duration\": \"0:01:04\", \"iteration\": \"25\", \"goal\": \"accuracy_max\", \"run_name\": \"SparseNormalizer, LightGBM\", \"run_properties\": \"<azureml.automl.runtime.shared.model_wrappers.SparseNormalizer object at 0x7fa95f4ff978\", \"primary_metric\": 0.6791954, \"best_metric\": 0.85287356}, {\"run_id\": \"AutoML_5031ebf5-453b-47d8-b21e-a09dfb5c0976_26\", \"run_number\": 31, \"metric\": null, \"status\": \"Completed\", \"run_type\": \"azureml.scriptrun\", \"training_percent\": \"100\", \"start_time\": \"2021-02-07T08:48:41.127084Z\", \"end_time\": \"2021-02-07T08:49:40.20109Z\", \"created_time\": \"2021-02-07T08:48:15.832338Z\", \"created_time_dt\": \"2021-02-07T08:48:15.832338Z\", \"duration\": \"0:01:24\", \"iteration\": \"26\", \"goal\": \"accuracy_max\", \"run_name\": \"MaxAbsScaler, ExtremeRandomTrees\", \"run_properties\": \"copy=True\", \"primary_metric\": 0.83229885, \"best_metric\": 0.85287356}, {\"run_id\": \"AutoML_5031ebf5-453b-47d8-b21e-a09dfb5c0976_27\", \"run_number\": 32, \"metric\": null, \"status\": \"Completed\", \"run_type\": \"azureml.scriptrun\", \"training_percent\": \"100\", \"start_time\": \"2021-02-07T08:48:55.114777Z\", \"end_time\": \"2021-02-07T08:49:49.629961Z\", \"created_time\": \"2021-02-07T08:48:42.253508Z\", \"created_time_dt\": \"2021-02-07T08:48:42.253508Z\", \"duration\": \"0:01:07\", \"iteration\": \"27\", \"goal\": \"accuracy_max\", \"run_name\": \"SparseNormalizer, ExtremeRandomTrees\", \"run_properties\": \"<azureml.automl.runtime.shared.model_wrappers.SparseNormalizer object at 0x7fc9ad77d780\", \"primary_metric\": 0.79252874, \"best_metric\": 0.85287356}, {\"run_id\": \"AutoML_5031ebf5-453b-47d8-b21e-a09dfb5c0976_28\", \"run_number\": 33, \"metric\": null, \"status\": \"Completed\", \"run_type\": \"azureml.scriptrun\", \"training_percent\": \"100\", \"start_time\": \"2021-02-07T08:49:11.903067Z\", \"end_time\": \"2021-02-07T08:50:10.61131Z\", \"created_time\": \"2021-02-07T08:48:47.607879Z\", \"created_time_dt\": \"2021-02-07T08:48:47.607879Z\", \"duration\": \"0:01:23\", \"iteration\": \"28\", \"goal\": \"accuracy_max\", \"run_name\": \"MaxAbsScaler, ExtremeRandomTrees\", \"run_properties\": \"copy=True\", \"primary_metric\": 0.83574713, \"best_metric\": 0.85287356}, {\"run_id\": \"AutoML_5031ebf5-453b-47d8-b21e-a09dfb5c0976_29\", \"run_number\": 34, \"metric\": null, \"status\": \"Completed\", \"run_type\": \"azureml.scriptrun\", \"training_percent\": \"100\", \"start_time\": \"2021-02-07T08:49:47.079933Z\", \"end_time\": \"2021-02-07T08:50:44.675435Z\", \"created_time\": \"2021-02-07T08:49:11.601978Z\", \"created_time_dt\": \"2021-02-07T08:49:11.601978Z\", \"duration\": \"0:01:33\", \"iteration\": \"29\", \"goal\": \"accuracy_max\", \"run_name\": \"MaxAbsScaler, LightGBM\", \"run_properties\": \"copy=True\", \"primary_metric\": 0.79597701, \"best_metric\": 0.85287356}, {\"run_id\": \"AutoML_5031ebf5-453b-47d8-b21e-a09dfb5c0976_30\", \"run_number\": 35, \"metric\": null, \"status\": \"Completed\", \"run_type\": \"azureml.scriptrun\", \"training_percent\": \"100\", \"start_time\": \"2021-02-07T08:49:23.780164Z\", \"end_time\": \"2021-02-07T08:50:24.644569Z\", \"created_time\": \"2021-02-07T08:49:11.712802Z\", \"created_time_dt\": \"2021-02-07T08:49:11.712802Z\", \"duration\": \"0:01:12\", \"iteration\": \"30\", \"goal\": \"accuracy_max\", \"run_name\": \"StandardScalerWrapper, RandomForest\", \"run_properties\": \"<azureml.automl.runtime.shared.model_wrappers.StandardScalerWrapper object at 0x7f46e751e198\", \"primary_metric\": 0.80896552, \"best_metric\": 0.85287356}, {\"run_id\": \"AutoML_5031ebf5-453b-47d8-b21e-a09dfb5c0976_31\", \"run_number\": 36, \"metric\": null, \"status\": \"Completed\", \"run_type\": \"azureml.scriptrun\", \"training_percent\": \"100\", \"start_time\": \"2021-02-07T08:49:56.085637Z\", \"end_time\": \"2021-02-07T08:50:53.891023Z\", \"created_time\": \"2021-02-07T08:49:42.406409Z\", \"created_time_dt\": \"2021-02-07T08:49:42.406409Z\", \"duration\": \"0:01:11\", \"iteration\": \"31\", \"goal\": \"accuracy_max\", \"run_name\": \"MaxAbsScaler, RandomForest\", \"run_properties\": \"copy=True\", \"primary_metric\": 0.75252874, \"best_metric\": 0.85287356}, {\"run_id\": \"AutoML_5031ebf5-453b-47d8-b21e-a09dfb5c0976_32\", \"run_number\": 37, \"metric\": null, \"status\": \"Completed\", \"run_type\": \"azureml.scriptrun\", \"training_percent\": \"100\", \"start_time\": \"2021-02-07T08:50:16.909447Z\", \"end_time\": \"2021-02-07T08:51:10.382704Z\", \"created_time\": \"2021-02-07T08:49:51.997997Z\", \"created_time_dt\": \"2021-02-07T08:49:51.997997Z\", \"duration\": \"0:01:18\", \"iteration\": \"32\", \"goal\": \"accuracy_max\", \"run_name\": \"SparseNormalizer, XGBoostClassifier\", \"run_properties\": \"<azureml.automl.runtime.shared.model_wrappers.SparseNormalizer object at 0x7f8ccc11f908\", \"primary_metric\": 0.84954023, \"best_metric\": 0.85287356}, {\"run_id\": \"AutoML_5031ebf5-453b-47d8-b21e-a09dfb5c0976_33\", \"run_number\": 38, \"metric\": null, \"status\": \"Completed\", \"run_type\": \"azureml.scriptrun\", \"training_percent\": \"100\", \"start_time\": \"2021-02-07T08:50:24.625206Z\", \"end_time\": \"2021-02-07T08:51:21.066307Z\", \"created_time\": \"2021-02-07T08:50:13.038523Z\", \"created_time_dt\": \"2021-02-07T08:50:13.038523Z\", \"duration\": \"0:01:08\", \"iteration\": \"33\", \"goal\": \"accuracy_max\", \"run_name\": \"MinMaxScaler, RandomForest\", \"run_properties\": \"copy=True, feature_range=(0, 1\", \"primary_metric\": 0.82264368, \"best_metric\": 0.85287356}, {\"run_id\": \"AutoML_5031ebf5-453b-47d8-b21e-a09dfb5c0976_34\", \"run_number\": 39, \"metric\": null, \"status\": \"Canceled\", \"run_type\": \"azureml.scriptrun\", \"training_percent\": \"100\", \"start_time\": \"2021-02-07T08:50:49.671241Z\", \"end_time\": \"2021-02-07T08:51:29.6812Z\", \"created_time\": \"2021-02-07T08:50:27.125961Z\", \"created_time_dt\": \"2021-02-07T08:50:27.125961Z\", \"duration\": \"0:01:02\", \"iteration\": \"34\", \"goal\": \"accuracy_max\", \"run_name\": \"StandardScalerWrapper, LightGBM\", \"run_properties\": \"<azureml.automl.runtime.shared.model_wrappers.StandardScalerWrapper object at 0x7fc936b8fb38\", \"primary_metric\": 0.83908046, \"best_metric\": 0.85287356}, {\"run_id\": \"AutoML_5031ebf5-453b-47d8-b21e-a09dfb5c0976_35\", \"run_number\": 40, \"metric\": null, \"status\": \"Canceled\", \"run_type\": \"azureml.scriptrun\", \"training_percent\": \"100\", \"start_time\": \"2021-02-07T08:51:01.565197Z\", \"end_time\": \"2021-02-07T08:51:28.407678Z\", \"created_time\": \"2021-02-07T08:50:48.431644Z\", \"created_time_dt\": \"2021-02-07T08:50:48.431644Z\", \"duration\": \"0:00:39\", \"iteration\": \"35\", \"goal\": null, \"run_name\": \"Canceled\", \"run_properties\": null}, {\"run_id\": \"AutoML_5031ebf5-453b-47d8-b21e-a09dfb5c0976_36\", \"run_number\": 41, \"metric\": null, \"status\": \"Canceled\", \"run_type\": \"azureml.scriptrun\", \"training_percent\": \"100\", \"start_time\": \"2021-02-07T08:51:12.108035Z\", \"end_time\": \"2021-02-07T08:51:29.088137Z\", \"created_time\": \"2021-02-07T08:50:56.02505Z\", \"created_time_dt\": \"2021-02-07T08:50:56.02505Z\", \"duration\": \"0:00:33\", \"iteration\": \"36\", \"goal\": null, \"run_name\": \"Canceled\", \"run_properties\": null}, {\"run_id\": \"AutoML_5031ebf5-453b-47d8-b21e-a09dfb5c0976_37\", \"run_number\": 42, \"metric\": null, \"status\": \"Canceled\", \"run_type\": \"azureml.scriptrun\", \"training_percent\": \"100\", \"start_time\": \"2021-02-07T08:51:12.684544Z\", \"end_time\": \"2021-02-07T08:51:32.878453Z\", \"created_time\": \"2021-02-07T08:51:12.684544Z\", \"created_time_dt\": \"2021-02-07T08:51:12.684544Z\", \"duration\": \"0:00:20\", \"iteration\": \"37\", \"goal\": null, \"run_name\": \"Canceled\", \"run_properties\": null}, {\"run_id\": \"AutoML_5031ebf5-453b-47d8-b21e-a09dfb5c0976_39\", \"run_number\": 43, \"metric\": null, \"status\": \"Completed\", \"run_type\": \"azureml.scriptrun\", \"training_percent\": \"100\", \"start_time\": \"2021-02-07T08:51:46.980498Z\", \"end_time\": \"2021-02-07T08:53:41.783141Z\", \"created_time\": \"2021-02-07T08:51:33.754004Z\", \"created_time_dt\": \"2021-02-07T08:51:33.754004Z\", \"duration\": \"0:02:08\", \"iteration\": \"39\", \"goal\": \"accuracy_max\", \"run_name\": \"StackEnsemble\", \"run_properties\": \"base_learners=[('23',\\n                                        Pipeline(memory=None,\\n                                                 steps=[('sparsenormalizer',\\n                                                         <azureml.automl.runtime.shared.model_wrappers.SparseNormalizer object at 0x7f2be2a6d630>\", \"primary_metric\": 0.87298851, \"best_metric\": 0.87965517}, {\"run_id\": \"AutoML_5031ebf5-453b-47d8-b21e-a09dfb5c0976_38\", \"run_number\": 44, \"metric\": null, \"status\": \"Completed\", \"run_type\": \"azureml.scriptrun\", \"training_percent\": \"100\", \"start_time\": \"2021-02-07T08:51:48.771015Z\", \"end_time\": \"2021-02-07T08:53:37.703171Z\", \"created_time\": \"2021-02-07T08:51:33.756004Z\", \"created_time_dt\": \"2021-02-07T08:51:33.756004Z\", \"duration\": \"0:02:03\", \"iteration\": \"38\", \"goal\": \"accuracy_max\", \"run_name\": \"VotingEnsemble\", \"run_properties\": \"classification_labels=None,\\n                              estimators=[('23',\\n                                           Pipeline(memory=None,\\n                                                    steps=[('sparsenormalizer',\\n                                                            <azureml.automl.runtime.shared.model_wrappers.SparseNormalizer object at 0x7fa77c11a518>\", \"primary_metric\": 0.87965517, \"best_metric\": 0.87965517}], \"children_metrics\": {\"categories\": [0], \"series\": {\"average_precision_score_weighted\": [{\"categories\": [\"0\", \"1\", \"2\", \"3\", \"4\", \"5\", \"6\", \"7\", \"8\", \"9\", \"10\", \"11\", \"12\", \"13\", \"14\", \"15\", \"16\", \"17\", \"18\", \"19\", \"20\", \"21\", \"22\", \"23\", \"24\", \"25\", \"26\", \"27\", \"28\", \"29\", \"30\", \"31\", \"32\", \"33\", \"34\", \"38\", \"39\"], \"mode\": \"markers\", \"name\": \"average_precision_score_weighted\", \"stepped\": false, \"type\": \"scatter\", \"data\": [0.9061112830231934, 0.907154018724502, 0.9186939368936506, 0.9127514997988012, 0.9210370315091503, 0.8686451418098582, 0.7902984708289256, 0.9165549146745361, 0.8266773551675792, 0.9006152166437232, 0.909711044394059, 0.8764764478120824, 0.9254401743780608, 0.9168546464346139, 0.9042677325897064, 0.916358520578126, 0.9185264340158863, 0.9237872408898748, 0.909600043518806, 0.921510698044982, 0.9145359592156357, 0.9218076376537315, 0.8798275059216241, 0.9121562223672438, 0.8898096511813464, 0.8951772248252391, 0.9107692583638929, 0.8753722676334513, 0.9117224355611441, 0.9018891511020787, 0.9218119660576984, 0.9180357038859995, 0.9060660336140408, 0.9110556696545441, 0.9203774913498801, 0.9262539896633039, 0.9263804855434561]}, {\"categories\": [\"0\", \"1\", \"2\", \"3\", \"4\", \"5\", \"6\", \"7\", \"8\", \"9\", \"10\", \"11\", \"12\", \"13\", \"14\", \"15\", \"16\", \"17\", \"18\", \"19\", \"20\", \"21\", \"22\", \"23\", \"24\", \"25\", \"26\", \"27\", \"28\", \"29\", \"30\", \"31\", \"32\", \"33\", \"34\", \"38\", \"39\"], \"mode\": \"lines\", \"name\": \"average_precision_score_weighted_max\", \"stepped\": true, \"type\": \"scatter\", \"data\": [0.9061112830231934, 0.907154018724502, 0.9186939368936506, 0.9186939368936506, 0.9210370315091503, 0.9210370315091503, 0.9210370315091503, 0.9210370315091503, 0.9210370315091503, 0.9210370315091503, 0.9210370315091503, 0.9210370315091503, 0.9254401743780608, 0.9254401743780608, 0.9254401743780608, 0.9254401743780608, 0.9254401743780608, 0.9254401743780608, 0.9254401743780608, 0.9254401743780608, 0.9254401743780608, 0.9254401743780608, 0.9254401743780608, 0.9254401743780608, 0.9254401743780608, 0.9254401743780608, 0.9254401743780608, 0.9254401743780608, 0.9254401743780608, 0.9254401743780608, 0.9254401743780608, 0.9254401743780608, 0.9254401743780608, 0.9254401743780608, 0.9254401743780608, 0.9262539896633039, 0.9263804855434561]}], \"balanced_accuracy\": [{\"categories\": [\"0\", \"1\", \"2\", \"3\", \"4\", \"5\", \"6\", \"7\", \"8\", \"9\", \"10\", \"11\", \"12\", \"13\", \"14\", \"15\", \"16\", \"17\", \"18\", \"19\", \"20\", \"21\", \"22\", \"23\", \"24\", \"25\", \"26\", \"27\", \"28\", \"29\", \"30\", \"31\", \"32\", \"33\", \"34\", \"38\", \"39\"], \"mode\": \"markers\", \"name\": \"balanced_accuracy\", \"stepped\": false, \"type\": \"scatter\", \"data\": [0.8077082895810014, 0.8130249020938379, 0.8047185168950044, 0.8034520932601596, 0.8127035779501455, 0.7376534877212795, 0.6432146976466199, 0.7918168440699906, 0.6536353552689365, 0.785013547950905, 0.8071921953269208, 0.758680183247975, 0.8014025441568349, 0.8121255828140839, 0.7999603913439726, 0.7647936289174846, 0.7992019669562576, 0.8131082354271714, 0.7885032884417896, 0.8159600619632084, 0.7698189763770427, 0.8069322841854307, 0.7736320230748148, 0.8180298671580134, 0.7611262188739305, 0.5, 0.8212035057175218, 0.7906401180817657, 0.8145794075934235, 0.7027399939242045, 0.8095933782083667, 0.6293016508662961, 0.810638899207835, 0.7826228231151, 0.8148687921219386, 0.8475941975326986, 0.8420227689612702]}, {\"categories\": [\"0\", \"1\", \"2\", \"3\", \"4\", \"5\", \"6\", \"7\", \"8\", \"9\", \"10\", \"11\", \"12\", \"13\", \"14\", \"15\", \"16\", \"17\", \"18\", \"19\", \"20\", \"21\", \"22\", \"23\", \"24\", \"25\", \"26\", \"27\", \"28\", \"29\", \"30\", \"31\", \"32\", \"33\", \"34\", \"38\", \"39\"], \"mode\": \"lines\", \"name\": \"balanced_accuracy_max\", \"stepped\": true, \"type\": \"scatter\", \"data\": [0.8077082895810014, 0.8130249020938379, 0.8130249020938379, 0.8130249020938379, 0.8130249020938379, 0.8130249020938379, 0.8130249020938379, 0.8130249020938379, 0.8130249020938379, 0.8130249020938379, 0.8130249020938379, 0.8130249020938379, 0.8130249020938379, 0.8130249020938379, 0.8130249020938379, 0.8130249020938379, 0.8130249020938379, 0.8131082354271714, 0.8131082354271714, 0.8159600619632084, 0.8159600619632084, 0.8159600619632084, 0.8159600619632084, 0.8180298671580134, 0.8180298671580134, 0.8180298671580134, 0.8212035057175218, 0.8212035057175218, 0.8212035057175218, 0.8212035057175218, 0.8212035057175218, 0.8212035057175218, 0.8212035057175218, 0.8212035057175218, 0.8212035057175218, 0.8475941975326986, 0.8475941975326986]}], \"recall_score_weighted\": [{\"categories\": [\"0\", \"1\", \"2\", \"3\", \"4\", \"5\", \"6\", \"7\", \"8\", \"9\", \"10\", \"11\", \"12\", \"13\", \"14\", \"15\", \"16\", \"17\", \"18\", \"19\", \"20\", \"21\", \"22\", \"23\", \"24\", \"25\", \"26\", \"27\", \"28\", \"29\", \"30\", \"31\", \"32\", \"33\", \"34\", \"38\", \"39\"], \"mode\": \"markers\", \"name\": \"recall_score_weighted\", \"stepped\": false, \"type\": \"scatter\", \"data\": [0.8359770114942527, 0.8358620689655172, 0.8327586206896551, 0.8460919540229884, 0.8258620689655173, 0.7822988505747126, 0.722528735632184, 0.8327586206896551, 0.7156321839080461, 0.8228735632183908, 0.8393103448275863, 0.8093103448275862, 0.8426436781609195, 0.8491954022988507, 0.8328735632183909, 0.8226436781609194, 0.8393103448275863, 0.8528735632183908, 0.8428735632183908, 0.842528735632184, 0.825977011494253, 0.8257471264367815, 0.8025287356321839, 0.8528735632183908, 0.8058620689655172, 0.6791954022988507, 0.8322988505747129, 0.792528735632184, 0.8357471264367817, 0.7959770114942529, 0.8089655172413794, 0.7525287356321839, 0.8495402298850575, 0.8226436781609194, 0.839080459770115, 0.8796551724137931, 0.8729885057471265]}, {\"categories\": [\"0\", \"1\", \"2\", \"3\", \"4\", \"5\", \"6\", \"7\", \"8\", \"9\", \"10\", \"11\", \"12\", \"13\", \"14\", \"15\", \"16\", \"17\", \"18\", \"19\", \"20\", \"21\", \"22\", \"23\", \"24\", \"25\", \"26\", \"27\", \"28\", \"29\", \"30\", \"31\", \"32\", \"33\", \"34\", \"38\", \"39\"], \"mode\": \"lines\", \"name\": \"recall_score_weighted_max\", \"stepped\": true, \"type\": \"scatter\", \"data\": [0.8359770114942527, 0.8359770114942527, 0.8359770114942527, 0.8460919540229884, 0.8460919540229884, 0.8460919540229884, 0.8460919540229884, 0.8460919540229884, 0.8460919540229884, 0.8460919540229884, 0.8460919540229884, 0.8460919540229884, 0.8460919540229884, 0.8491954022988507, 0.8491954022988507, 0.8491954022988507, 0.8491954022988507, 0.8528735632183908, 0.8528735632183908, 0.8528735632183908, 0.8528735632183908, 0.8528735632183908, 0.8528735632183908, 0.8528735632183908, 0.8528735632183908, 0.8528735632183908, 0.8528735632183908, 0.8528735632183908, 0.8528735632183908, 0.8528735632183908, 0.8528735632183908, 0.8528735632183908, 0.8528735632183908, 0.8528735632183908, 0.8528735632183908, 0.8796551724137931, 0.8796551724137931]}], \"f1_score_weighted\": [{\"categories\": [\"0\", \"1\", \"2\", \"3\", \"4\", \"5\", \"6\", \"7\", \"8\", \"9\", \"10\", \"11\", \"12\", \"13\", \"14\", \"15\", \"16\", \"17\", \"18\", \"19\", \"20\", \"21\", \"22\", \"23\", \"24\", \"25\", \"26\", \"27\", \"28\", \"29\", \"30\", \"31\", \"32\", \"33\", \"34\", \"38\", \"39\"], \"mode\": \"markers\", \"name\": \"f1_score_weighted\", \"stepped\": false, \"type\": \"scatter\", \"data\": [0.8333388901455894, 0.8342588560383983, 0.8296525407921734, 0.8401605081932371, 0.8271934729838092, 0.7772723154376464, 0.690420220133812, 0.8268845927520065, 0.6934709475568677, 0.8182849428892383, 0.8357856451054847, 0.8048217845216165, 0.836969237375226, 0.8441673031543031, 0.8280418148453291, 0.8099817042890736, 0.8323341032522762, 0.8473090855094908, 0.832643454768266, 0.8410018219074631, 0.814340155903589, 0.8234954490135701, 0.7999127471822677, 0.8478132557070246, 0.7978951169999162, 0.5534120288954022, 0.8355655831061221, 0.7971808482138212, 0.8351735528546982, 0.7690657521002142, 0.8146272463050035, 0.7049134250057191, 0.8444890292067422, 0.8173223067953203, 0.8375761393110273, 0.8745402351846987, 0.867379527528635]}, {\"categories\": [\"0\", \"1\", \"2\", \"3\", \"4\", \"5\", \"6\", \"7\", \"8\", \"9\", \"10\", \"11\", \"12\", \"13\", \"14\", \"15\", \"16\", \"17\", \"18\", \"19\", \"20\", \"21\", \"22\", \"23\", \"24\", \"25\", \"26\", \"27\", \"28\", \"29\", \"30\", \"31\", \"32\", \"33\", \"34\", \"38\", \"39\"], \"mode\": \"lines\", \"name\": \"f1_score_weighted_max\", \"stepped\": true, \"type\": \"scatter\", \"data\": [0.8333388901455894, 0.8342588560383983, 0.8342588560383983, 0.8401605081932371, 0.8401605081932371, 0.8401605081932371, 0.8401605081932371, 0.8401605081932371, 0.8401605081932371, 0.8401605081932371, 0.8401605081932371, 0.8401605081932371, 0.8401605081932371, 0.8441673031543031, 0.8441673031543031, 0.8441673031543031, 0.8441673031543031, 0.8473090855094908, 0.8473090855094908, 0.8473090855094908, 0.8473090855094908, 0.8473090855094908, 0.8473090855094908, 0.8478132557070246, 0.8478132557070246, 0.8478132557070246, 0.8478132557070246, 0.8478132557070246, 0.8478132557070246, 0.8478132557070246, 0.8478132557070246, 0.8478132557070246, 0.8478132557070246, 0.8478132557070246, 0.8478132557070246, 0.8745402351846987, 0.8745402351846987]}], \"precision_score_micro\": [{\"categories\": [\"0\", \"1\", \"2\", \"3\", \"4\", \"5\", \"6\", \"7\", \"8\", \"9\", \"10\", \"11\", \"12\", \"13\", \"14\", \"15\", \"16\", \"17\", \"18\", \"19\", \"20\", \"21\", \"22\", \"23\", \"24\", \"25\", \"26\", \"27\", \"28\", \"29\", \"30\", \"31\", \"32\", \"33\", \"34\", \"38\", \"39\"], \"mode\": \"markers\", \"name\": \"precision_score_micro\", \"stepped\": false, \"type\": \"scatter\", \"data\": [0.8359770114942527, 0.8358620689655172, 0.8327586206896551, 0.8460919540229884, 0.8258620689655173, 0.7822988505747126, 0.722528735632184, 0.8327586206896551, 0.7156321839080461, 0.8228735632183908, 0.8393103448275863, 0.8093103448275862, 0.8426436781609195, 0.8491954022988507, 0.8328735632183909, 0.8226436781609194, 0.8393103448275863, 0.8528735632183908, 0.8428735632183908, 0.842528735632184, 0.825977011494253, 0.8257471264367815, 0.8025287356321839, 0.8528735632183908, 0.8058620689655172, 0.6791954022988507, 0.8322988505747129, 0.792528735632184, 0.8357471264367817, 0.7959770114942529, 0.8089655172413794, 0.7525287356321839, 0.8495402298850575, 0.8226436781609194, 0.839080459770115, 0.8796551724137931, 0.8729885057471265]}, {\"categories\": [\"0\", \"1\", \"2\", \"3\", \"4\", \"5\", \"6\", \"7\", \"8\", \"9\", \"10\", \"11\", \"12\", \"13\", \"14\", \"15\", \"16\", \"17\", \"18\", \"19\", \"20\", \"21\", \"22\", \"23\", \"24\", \"25\", \"26\", \"27\", \"28\", \"29\", \"30\", \"31\", \"32\", \"33\", \"34\", \"38\", \"39\"], \"mode\": \"lines\", \"name\": \"precision_score_micro_max\", \"stepped\": true, \"type\": \"scatter\", \"data\": [0.8359770114942527, 0.8359770114942527, 0.8359770114942527, 0.8460919540229884, 0.8460919540229884, 0.8460919540229884, 0.8460919540229884, 0.8460919540229884, 0.8460919540229884, 0.8460919540229884, 0.8460919540229884, 0.8460919540229884, 0.8460919540229884, 0.8491954022988507, 0.8491954022988507, 0.8491954022988507, 0.8491954022988507, 0.8528735632183908, 0.8528735632183908, 0.8528735632183908, 0.8528735632183908, 0.8528735632183908, 0.8528735632183908, 0.8528735632183908, 0.8528735632183908, 0.8528735632183908, 0.8528735632183908, 0.8528735632183908, 0.8528735632183908, 0.8528735632183908, 0.8528735632183908, 0.8528735632183908, 0.8528735632183908, 0.8528735632183908, 0.8528735632183908, 0.8796551724137931, 0.8796551724137931]}], \"precision_score_weighted\": [{\"categories\": [\"0\", \"1\", \"2\", \"3\", \"4\", \"5\", \"6\", \"7\", \"8\", \"9\", \"10\", \"11\", \"12\", \"13\", \"14\", \"15\", \"16\", \"17\", \"18\", \"19\", \"20\", \"21\", \"22\", \"23\", \"24\", \"25\", \"26\", \"27\", \"28\", \"29\", \"30\", \"31\", \"32\", \"33\", \"34\", \"38\", \"39\"], \"mode\": \"markers\", \"name\": \"precision_score_weighted\", \"stepped\": false, \"type\": \"scatter\", \"data\": [0.8443308716969533, 0.8506678986628277, 0.846605585735271, 0.8570649881769071, 0.8423913859884822, 0.7917108230309571, 0.7389422809657443, 0.8471991704876658, 0.7326129392383764, 0.837153057106774, 0.8518006829918374, 0.8214794960088856, 0.8559306933113529, 0.8592013448163136, 0.8490463978799812, 0.8349369327241142, 0.8553606304186647, 0.8659547408114123, 0.8624187706762669, 0.8542635493415986, 0.8368690238214226, 0.845469464401998, 0.8160502328200978, 0.8707417698291184, 0.8264288124668935, 0.47055053507728895, 0.8510577520156153, 0.8151013074384809, 0.8535101793492952, 0.8245342350802621, 0.8374228846370407, 0.7820081669075922, 0.8632553265105122, 0.8360331281030462, 0.85338929939792, 0.8939134261540558, 0.8887654581800009]}, {\"categories\": [\"0\", \"1\", \"2\", \"3\", \"4\", \"5\", \"6\", \"7\", \"8\", \"9\", \"10\", \"11\", \"12\", \"13\", \"14\", \"15\", \"16\", \"17\", \"18\", \"19\", \"20\", \"21\", \"22\", \"23\", \"24\", \"25\", \"26\", \"27\", \"28\", \"29\", \"30\", \"31\", \"32\", \"33\", \"34\", \"38\", \"39\"], \"mode\": \"lines\", \"name\": \"precision_score_weighted_max\", \"stepped\": true, \"type\": \"scatter\", \"data\": [0.8443308716969533, 0.8506678986628277, 0.8506678986628277, 0.8570649881769071, 0.8570649881769071, 0.8570649881769071, 0.8570649881769071, 0.8570649881769071, 0.8570649881769071, 0.8570649881769071, 0.8570649881769071, 0.8570649881769071, 0.8570649881769071, 0.8592013448163136, 0.8592013448163136, 0.8592013448163136, 0.8592013448163136, 0.8659547408114123, 0.8659547408114123, 0.8659547408114123, 0.8659547408114123, 0.8659547408114123, 0.8659547408114123, 0.8707417698291184, 0.8707417698291184, 0.8707417698291184, 0.8707417698291184, 0.8707417698291184, 0.8707417698291184, 0.8707417698291184, 0.8707417698291184, 0.8707417698291184, 0.8707417698291184, 0.8707417698291184, 0.8707417698291184, 0.8939134261540558, 0.8939134261540558]}], \"precision_score_macro\": [{\"categories\": [\"0\", \"1\", \"2\", \"3\", \"4\", \"5\", \"6\", \"7\", \"8\", \"9\", \"10\", \"11\", \"12\", \"13\", \"14\", \"15\", \"16\", \"17\", \"18\", \"19\", \"20\", \"21\", \"22\", \"23\", \"24\", \"25\", \"26\", \"27\", \"28\", \"29\", \"30\", \"31\", \"32\", \"33\", \"34\", \"38\", \"39\"], \"mode\": \"markers\", \"name\": \"precision_score_macro\", \"stepped\": false, \"type\": \"scatter\", \"data\": [0.8167365852764965, 0.8232986049897815, 0.8170086736934563, 0.8413851872764916, 0.8020681248575985, 0.7538714045971079, 0.6999451414402689, 0.8294928031541303, 0.686336419216854, 0.8098152219970096, 0.8247176736307171, 0.7853385886633968, 0.833349592277796, 0.8400173333531458, 0.8302320007731906, 0.8236542443064183, 0.8366777806592385, 0.8518154369784805, 0.8684249023922936, 0.8259299327786674, 0.8266180124223602, 0.8122703431833866, 0.7821303604861958, 0.8556105986152762, 0.797496918540397, 0.33959770114942534, 0.8053264666937435, 0.7632353962145152, 0.8201570148118137, 0.8309607952434039, 0.7807081789899126, 0.7836864763588901, 0.8451538107313784, 0.8059835492725519, 0.8232597402597402, 0.8915326605761388, 0.8798747098312315]}, {\"categories\": [\"0\", \"1\", \"2\", \"3\", \"4\", \"5\", \"6\", \"7\", \"8\", \"9\", \"10\", \"11\", \"12\", \"13\", \"14\", \"15\", \"16\", \"17\", \"18\", \"19\", \"20\", \"21\", \"22\", \"23\", \"24\", \"25\", \"26\", \"27\", \"28\", \"29\", \"30\", \"31\", \"32\", \"33\", \"34\", \"38\", \"39\"], \"mode\": \"lines\", \"name\": \"precision_score_macro_max\", \"stepped\": true, \"type\": \"scatter\", \"data\": [0.8167365852764965, 0.8232986049897815, 0.8232986049897815, 0.8413851872764916, 0.8413851872764916, 0.8413851872764916, 0.8413851872764916, 0.8413851872764916, 0.8413851872764916, 0.8413851872764916, 0.8413851872764916, 0.8413851872764916, 0.8413851872764916, 0.8413851872764916, 0.8413851872764916, 0.8413851872764916, 0.8413851872764916, 0.8518154369784805, 0.8684249023922936, 0.8684249023922936, 0.8684249023922936, 0.8684249023922936, 0.8684249023922936, 0.8684249023922936, 0.8684249023922936, 0.8684249023922936, 0.8684249023922936, 0.8684249023922936, 0.8684249023922936, 0.8684249023922936, 0.8684249023922936, 0.8684249023922936, 0.8684249023922936, 0.8684249023922936, 0.8684249023922936, 0.8915326605761388, 0.8915326605761388]}], \"AUC_macro\": [{\"categories\": [\"0\", \"1\", \"2\", \"3\", \"4\", \"5\", \"6\", \"7\", \"8\", \"9\", \"10\", \"11\", \"12\", \"13\", \"14\", \"15\", \"16\", \"17\", \"18\", \"19\", \"20\", \"21\", \"22\", \"23\", \"24\", \"25\", \"26\", \"27\", \"28\", \"29\", \"30\", \"31\", \"32\", \"33\", \"34\", \"38\", \"39\"], \"mode\": \"markers\", \"name\": \"AUC_macro\", \"stepped\": false, \"type\": \"scatter\", \"data\": [0.8840955354735103, 0.8847369443591411, 0.8980451861152663, 0.8983318693637914, 0.9054548690291824, 0.8502963601636943, 0.7472287308356531, 0.900381358452125, 0.7980165731907722, 0.879342659940915, 0.894524100985886, 0.8608370342027666, 0.9087587028616776, 0.9014763393166711, 0.8877728841757445, 0.9041695342055182, 0.9022516357593588, 0.9064266369013222, 0.8890341372755561, 0.9076703884491643, 0.9028904855325621, 0.9045074128282939, 0.866503574978289, 0.8965881292906179, 0.8701587267053228, 0.8804151106934001, 0.8876494799251091, 0.8504614056000784, 0.8863759564700068, 0.8762875786578876, 0.9051581794572069, 0.8982862248671746, 0.8905101635291567, 0.8938161375936549, 0.9060219925912717, 0.9137378665427291, 0.9137131148303345]}, {\"categories\": [\"0\", \"1\", \"2\", \"3\", \"4\", \"5\", \"6\", \"7\", \"8\", \"9\", \"10\", \"11\", \"12\", \"13\", \"14\", \"15\", \"16\", \"17\", \"18\", \"19\", \"20\", \"21\", \"22\", \"23\", \"24\", \"25\", \"26\", \"27\", \"28\", \"29\", \"30\", \"31\", \"32\", \"33\", \"34\", \"38\", \"39\"], \"mode\": \"lines\", \"name\": \"AUC_macro_max\", \"stepped\": true, \"type\": \"scatter\", \"data\": [0.8840955354735103, 0.8847369443591411, 0.8980451861152663, 0.8983318693637914, 0.9054548690291824, 0.9054548690291824, 0.9054548690291824, 0.9054548690291824, 0.9054548690291824, 0.9054548690291824, 0.9054548690291824, 0.9054548690291824, 0.9087587028616776, 0.9087587028616776, 0.9087587028616776, 0.9087587028616776, 0.9087587028616776, 0.9087587028616776, 0.9087587028616776, 0.9087587028616776, 0.9087587028616776, 0.9087587028616776, 0.9087587028616776, 0.9087587028616776, 0.9087587028616776, 0.9087587028616776, 0.9087587028616776, 0.9087587028616776, 0.9087587028616776, 0.9087587028616776, 0.9087587028616776, 0.9087587028616776, 0.9087587028616776, 0.9087587028616776, 0.9087587028616776, 0.9137378665427291, 0.9137378665427291]}], \"AUC_weighted\": [{\"categories\": [\"0\", \"1\", \"2\", \"3\", \"4\", \"5\", \"6\", \"7\", \"8\", \"9\", \"10\", \"11\", \"12\", \"13\", \"14\", \"15\", \"16\", \"17\", \"18\", \"19\", \"20\", \"21\", \"22\", \"23\", \"24\", \"25\", \"26\", \"27\", \"28\", \"29\", \"30\", \"31\", \"32\", \"33\", \"34\", \"38\", \"39\"], \"mode\": \"markers\", \"name\": \"AUC_weighted\", \"stepped\": false, \"type\": \"scatter\", \"data\": [0.8840955354735103, 0.8847369443591411, 0.8980451861152663, 0.8983318693637916, 0.9054548690291826, 0.8502963601636943, 0.747228730835653, 0.900381358452125, 0.7980165731907722, 0.879342659940915, 0.894524100985886, 0.8608370342027666, 0.9087587028616777, 0.9014763393166711, 0.8877728841757445, 0.9041695342055182, 0.9022516357593588, 0.9064266369013222, 0.8890341372755561, 0.9076703884491641, 0.9028904855325622, 0.9045074128282937, 0.866503574978289, 0.8965881292906179, 0.8701587267053228, 0.8804151106934002, 0.8876494799251093, 0.8504614056000784, 0.8863759564700068, 0.8762875786578876, 0.9051581794572069, 0.8982862248671746, 0.8905101635291566, 0.8938161375936549, 0.9060219925912717, 0.9137378665427291, 0.9137131148303345]}, {\"categories\": [\"0\", \"1\", \"2\", \"3\", \"4\", \"5\", \"6\", \"7\", \"8\", \"9\", \"10\", \"11\", \"12\", \"13\", \"14\", \"15\", \"16\", \"17\", \"18\", \"19\", \"20\", \"21\", \"22\", \"23\", \"24\", \"25\", \"26\", \"27\", \"28\", \"29\", \"30\", \"31\", \"32\", \"33\", \"34\", \"38\", \"39\"], \"mode\": \"lines\", \"name\": \"AUC_weighted_max\", \"stepped\": true, \"type\": \"scatter\", \"data\": [0.8840955354735103, 0.8847369443591411, 0.8980451861152663, 0.8983318693637916, 0.9054548690291826, 0.9054548690291826, 0.9054548690291826, 0.9054548690291826, 0.9054548690291826, 0.9054548690291826, 0.9054548690291826, 0.9054548690291826, 0.9087587028616777, 0.9087587028616777, 0.9087587028616777, 0.9087587028616777, 0.9087587028616777, 0.9087587028616777, 0.9087587028616777, 0.9087587028616777, 0.9087587028616777, 0.9087587028616777, 0.9087587028616777, 0.9087587028616777, 0.9087587028616777, 0.9087587028616777, 0.9087587028616777, 0.9087587028616777, 0.9087587028616777, 0.9087587028616777, 0.9087587028616777, 0.9087587028616777, 0.9087587028616777, 0.9087587028616777, 0.9087587028616777, 0.9137378665427291, 0.9137378665427291]}], \"accuracy\": [{\"categories\": [\"0\", \"1\", \"2\", \"3\", \"4\", \"5\", \"6\", \"7\", \"8\", \"9\", \"10\", \"11\", \"12\", \"13\", \"14\", \"15\", \"16\", \"17\", \"18\", \"19\", \"20\", \"21\", \"22\", \"23\", \"24\", \"25\", \"26\", \"27\", \"28\", \"29\", \"30\", \"31\", \"32\", \"33\", \"34\", \"38\", \"39\"], \"mode\": \"markers\", \"name\": \"accuracy\", \"stepped\": false, \"type\": \"scatter\", \"data\": [0.8359770114942527, 0.8358620689655172, 0.8327586206896551, 0.8460919540229884, 0.8258620689655173, 0.7822988505747126, 0.722528735632184, 0.8327586206896551, 0.7156321839080461, 0.8228735632183908, 0.8393103448275863, 0.8093103448275862, 0.8426436781609195, 0.8491954022988507, 0.8328735632183909, 0.8226436781609194, 0.8393103448275863, 0.8528735632183908, 0.8428735632183908, 0.842528735632184, 0.825977011494253, 0.8257471264367815, 0.8025287356321839, 0.8528735632183908, 0.8058620689655172, 0.6791954022988507, 0.8322988505747129, 0.792528735632184, 0.8357471264367817, 0.7959770114942529, 0.8089655172413794, 0.7525287356321839, 0.8495402298850575, 0.8226436781609194, 0.839080459770115, 0.8796551724137931, 0.8729885057471265]}, {\"categories\": [\"0\", \"1\", \"2\", \"3\", \"4\", \"5\", \"6\", \"7\", \"8\", \"9\", \"10\", \"11\", \"12\", \"13\", \"14\", \"15\", \"16\", \"17\", \"18\", \"19\", \"20\", \"21\", \"22\", \"23\", \"24\", \"25\", \"26\", \"27\", \"28\", \"29\", \"30\", \"31\", \"32\", \"33\", \"34\", \"38\", \"39\"], \"mode\": \"lines\", \"name\": \"accuracy_max\", \"stepped\": true, \"type\": \"scatter\", \"data\": [0.8359770114942527, 0.8359770114942527, 0.8359770114942527, 0.8460919540229884, 0.8460919540229884, 0.8460919540229884, 0.8460919540229884, 0.8460919540229884, 0.8460919540229884, 0.8460919540229884, 0.8460919540229884, 0.8460919540229884, 0.8460919540229884, 0.8491954022988507, 0.8491954022988507, 0.8491954022988507, 0.8491954022988507, 0.8528735632183908, 0.8528735632183908, 0.8528735632183908, 0.8528735632183908, 0.8528735632183908, 0.8528735632183908, 0.8528735632183908, 0.8528735632183908, 0.8528735632183908, 0.8528735632183908, 0.8528735632183908, 0.8528735632183908, 0.8528735632183908, 0.8528735632183908, 0.8528735632183908, 0.8528735632183908, 0.8528735632183908, 0.8528735632183908, 0.8796551724137931, 0.8796551724137931]}], \"log_loss\": [{\"categories\": [\"0\", \"1\", \"2\", \"3\", \"4\", \"5\", \"6\", \"7\", \"8\", \"9\", \"10\", \"11\", \"12\", \"13\", \"14\", \"15\", \"16\", \"17\", \"18\", \"19\", \"20\", \"21\", \"22\", \"23\", \"24\", \"25\", \"26\", \"27\", \"28\", \"29\", \"30\", \"31\", \"32\", \"33\", \"34\", \"38\", \"39\"], \"mode\": \"markers\", \"name\": \"log_loss\", \"stepped\": false, \"type\": \"scatter\", \"data\": [0.4772179826627182, 0.41764279466886123, 0.3870909695387321, 0.39582117067808553, 0.37588422357311624, 0.5026423617266158, 0.5808820758667694, 0.394405483274961, 0.5334123699459309, 0.4113226523427646, 0.404807574019585, 0.488972342400222, 0.39076834921809894, 0.3973489936135962, 0.412689902302552, 0.45853779779480364, 0.41916278548122055, 0.36248851311164776, 0.42963769964319243, 0.36080564863145476, 0.4436353708854745, 0.37000910638524964, 0.43964967845246017, 0.3950105882414105, 0.4957111612362331, 0.6116835758842764, 0.474615544184965, 0.6114824930910061, 0.4279551479159923, 0.47211902720205234, 0.41726859539332645, 0.4769097197890179, 0.3964188793382829, 0.3792169349389122, 0.3669647325041997, 0.3707764779358461, 0.3680900760312961]}, {\"categories\": [\"0\", \"1\", \"2\", \"3\", \"4\", \"5\", \"6\", \"7\", \"8\", \"9\", \"10\", \"11\", \"12\", \"13\", \"14\", \"15\", \"16\", \"17\", \"18\", \"19\", \"20\", \"21\", \"22\", \"23\", \"24\", \"25\", \"26\", \"27\", \"28\", \"29\", \"30\", \"31\", \"32\", \"33\", \"34\", \"38\", \"39\"], \"mode\": \"lines\", \"name\": \"log_loss_min\", \"stepped\": true, \"type\": \"scatter\", \"data\": [0.4772179826627182, 0.41764279466886123, 0.3870909695387321, 0.3870909695387321, 0.37588422357311624, 0.37588422357311624, 0.37588422357311624, 0.37588422357311624, 0.37588422357311624, 0.37588422357311624, 0.37588422357311624, 0.37588422357311624, 0.37588422357311624, 0.37588422357311624, 0.37588422357311624, 0.37588422357311624, 0.37588422357311624, 0.36248851311164776, 0.36248851311164776, 0.36080564863145476, 0.36080564863145476, 0.36080564863145476, 0.36080564863145476, 0.36080564863145476, 0.36080564863145476, 0.36080564863145476, 0.36080564863145476, 0.36080564863145476, 0.36080564863145476, 0.36080564863145476, 0.36080564863145476, 0.36080564863145476, 0.36080564863145476, 0.36080564863145476, 0.36080564863145476, 0.36080564863145476, 0.36080564863145476]}], \"average_precision_score_macro\": [{\"categories\": [\"0\", \"1\", \"2\", \"3\", \"4\", \"5\", \"6\", \"7\", \"8\", \"9\", \"10\", \"11\", \"12\", \"13\", \"14\", \"15\", \"16\", \"17\", \"18\", \"19\", \"20\", \"21\", \"22\", \"23\", \"24\", \"25\", \"26\", \"27\", \"28\", \"29\", \"30\", \"31\", \"32\", \"33\", \"34\", \"38\", \"39\"], \"mode\": \"markers\", \"name\": \"average_precision_score_macro\", \"stepped\": false, \"type\": \"scatter\", \"data\": [0.8807888197525153, 0.8807340475847678, 0.899063476178158, 0.8921519088788005, 0.8937820812270122, 0.8290271067155629, 0.745469896825244, 0.8918330319186867, 0.7827606185608855, 0.8749745008185043, 0.8883010786806669, 0.8401142754782065, 0.904192863501725, 0.8909632215049464, 0.8793971710929904, 0.8893073017964932, 0.8918742359962035, 0.8994108646915511, 0.886438169707725, 0.8965092137080299, 0.8836867009613967, 0.8968800389598359, 0.8373962991572375, 0.8888692722532514, 0.858182945994504, 0.8694265797281714, 0.8861843478809384, 0.8487203442980181, 0.8861502024127464, 0.8720697037799846, 0.8967991363294872, 0.8886605464707082, 0.8801441796559588, 0.8812890487630156, 0.8972376428913812, 0.9033071025464542, 0.9031047148122955]}, {\"categories\": [\"0\", \"1\", \"2\", \"3\", \"4\", \"5\", \"6\", \"7\", \"8\", \"9\", \"10\", \"11\", \"12\", \"13\", \"14\", \"15\", \"16\", \"17\", \"18\", \"19\", \"20\", \"21\", \"22\", \"23\", \"24\", \"25\", \"26\", \"27\", \"28\", \"29\", \"30\", \"31\", \"32\", \"33\", \"34\", \"38\", \"39\"], \"mode\": \"lines\", \"name\": \"average_precision_score_macro_max\", \"stepped\": true, \"type\": \"scatter\", \"data\": [0.8807888197525153, 0.8807888197525153, 0.899063476178158, 0.899063476178158, 0.899063476178158, 0.899063476178158, 0.899063476178158, 0.899063476178158, 0.899063476178158, 0.899063476178158, 0.899063476178158, 0.899063476178158, 0.904192863501725, 0.904192863501725, 0.904192863501725, 0.904192863501725, 0.904192863501725, 0.904192863501725, 0.904192863501725, 0.904192863501725, 0.904192863501725, 0.904192863501725, 0.904192863501725, 0.904192863501725, 0.904192863501725, 0.904192863501725, 0.904192863501725, 0.904192863501725, 0.904192863501725, 0.904192863501725, 0.904192863501725, 0.904192863501725, 0.904192863501725, 0.904192863501725, 0.904192863501725, 0.904192863501725, 0.904192863501725]}], \"AUC_micro\": [{\"categories\": [\"0\", \"1\", \"2\", \"3\", \"4\", \"5\", \"6\", \"7\", \"8\", \"9\", \"10\", \"11\", \"12\", \"13\", \"14\", \"15\", \"16\", \"17\", \"18\", \"19\", \"20\", \"21\", \"22\", \"23\", \"24\", \"25\", \"26\", \"27\", \"28\", \"29\", \"30\", \"31\", \"32\", \"33\", \"34\", \"38\", \"39\"], \"mode\": \"markers\", \"name\": \"AUC_micro\", \"stepped\": false, \"type\": \"scatter\", \"data\": [0.9035422116527941, 0.9042166732725592, 0.9132166732725592, 0.9123433742898666, 0.9121562954155108, 0.8691808032765227, 0.7899136609855992, 0.903497291584093, 0.810962412471925, 0.8925694279297133, 0.9017936319196723, 0.8808599550799313, 0.9150470339542872, 0.9125110318404017, 0.898694147179284, 0.8919398863786497, 0.9062068965517242, 0.9187292905271504, 0.8963491874752278, 0.9159632712379443, 0.8944291187739465, 0.9138911348923239, 0.8749028933808958, 0.9029007794953099, 0.8806806711586737, 0.8362516845025763, 0.8976806711586736, 0.8604408772625181, 0.9044311005416834, 0.8704818337957457, 0.9032382084819661, 0.8721055621614481, 0.9005986259743691, 0.9086241247192495, 0.9141601268331352, 0.920768265292641, 0.9203394107543929]}, {\"categories\": [\"0\", \"1\", \"2\", \"3\", \"4\", \"5\", \"6\", \"7\", \"8\", \"9\", \"10\", \"11\", \"12\", \"13\", \"14\", \"15\", \"16\", \"17\", \"18\", \"19\", \"20\", \"21\", \"22\", \"23\", \"24\", \"25\", \"26\", \"27\", \"28\", \"29\", \"30\", \"31\", \"32\", \"33\", \"34\", \"38\", \"39\"], \"mode\": \"lines\", \"name\": \"AUC_micro_max\", \"stepped\": true, \"type\": \"scatter\", \"data\": [0.9035422116527941, 0.9042166732725592, 0.9132166732725592, 0.9132166732725592, 0.9132166732725592, 0.9132166732725592, 0.9132166732725592, 0.9132166732725592, 0.9132166732725592, 0.9132166732725592, 0.9132166732725592, 0.9132166732725592, 0.9150470339542872, 0.9150470339542872, 0.9150470339542872, 0.9150470339542872, 0.9150470339542872, 0.9187292905271504, 0.9187292905271504, 0.9187292905271504, 0.9187292905271504, 0.9187292905271504, 0.9187292905271504, 0.9187292905271504, 0.9187292905271504, 0.9187292905271504, 0.9187292905271504, 0.9187292905271504, 0.9187292905271504, 0.9187292905271504, 0.9187292905271504, 0.9187292905271504, 0.9187292905271504, 0.9187292905271504, 0.9187292905271504, 0.920768265292641, 0.920768265292641]}], \"matthews_correlation\": [{\"categories\": [\"0\", \"1\", \"2\", \"3\", \"4\", \"5\", \"6\", \"7\", \"8\", \"9\", \"10\", \"11\", \"12\", \"13\", \"14\", \"15\", \"16\", \"17\", \"18\", \"19\", \"20\", \"21\", \"22\", \"23\", \"24\", \"25\", \"26\", \"27\", \"28\", \"29\", \"30\", \"31\", \"32\", \"33\", \"34\", \"38\", \"39\"], \"mode\": \"markers\", \"name\": \"matthews_correlation\", \"stepped\": false, \"type\": \"scatter\", \"data\": [0.6231314496952846, 0.6345538749068885, 0.6202232914516255, 0.6411788526463172, 0.6139438369391974, 0.48933970058816634, 0.3266913241648123, 0.6181804708226917, 0.33071633524823046, 0.5926056841761447, 0.6303672061413494, 0.5420631828594559, 0.6315711283046315, 0.6504549794622912, 0.6251514690683962, 0.5839565871463948, 0.6320897071733595, 0.6617144390382697, 0.6479412702302392, 0.6407488794408207, 0.592534049964103, 0.6167515489835889, 0.554161814039891, 0.6703217914352484, 0.5527071889517196, 0.0, 0.6251124690129127, 0.5524398518756412, 0.6328824124966739, 0.5135776078981058, 0.5886671663665218, 0.3750855238861143, 0.6526669490817252, 0.5858557454073485, 0.6364361352049724, 0.7351420424664441, 0.7179471858756696]}, {\"categories\": [\"0\", \"1\", \"2\", \"3\", \"4\", \"5\", \"6\", \"7\", \"8\", \"9\", \"10\", \"11\", \"12\", \"13\", \"14\", \"15\", \"16\", \"17\", \"18\", \"19\", \"20\", \"21\", \"22\", \"23\", \"24\", \"25\", \"26\", \"27\", \"28\", \"29\", \"30\", \"31\", \"32\", \"33\", \"34\", \"38\", \"39\"], \"mode\": \"lines\", \"name\": \"matthews_correlation_max\", \"stepped\": true, \"type\": \"scatter\", \"data\": [0.6231314496952846, 0.6345538749068885, 0.6345538749068885, 0.6411788526463172, 0.6411788526463172, 0.6411788526463172, 0.6411788526463172, 0.6411788526463172, 0.6411788526463172, 0.6411788526463172, 0.6411788526463172, 0.6411788526463172, 0.6411788526463172, 0.6504549794622912, 0.6504549794622912, 0.6504549794622912, 0.6504549794622912, 0.6617144390382697, 0.6617144390382697, 0.6617144390382697, 0.6617144390382697, 0.6617144390382697, 0.6617144390382697, 0.6703217914352484, 0.6703217914352484, 0.6703217914352484, 0.6703217914352484, 0.6703217914352484, 0.6703217914352484, 0.6703217914352484, 0.6703217914352484, 0.6703217914352484, 0.6703217914352484, 0.6703217914352484, 0.6703217914352484, 0.7351420424664441, 0.7351420424664441]}], \"norm_macro_recall\": [{\"categories\": [\"0\", \"1\", \"2\", \"3\", \"4\", \"5\", \"6\", \"7\", \"8\", \"9\", \"10\", \"11\", \"12\", \"13\", \"14\", \"15\", \"16\", \"17\", \"18\", \"19\", \"20\", \"21\", \"22\", \"23\", \"24\", \"25\", \"26\", \"27\", \"28\", \"29\", \"30\", \"31\", \"32\", \"33\", \"34\", \"38\", \"39\"], \"mode\": \"markers\", \"name\": \"norm_macro_recall\", \"stepped\": false, \"type\": \"scatter\", \"data\": [0.6154165791620023, 0.626049804187676, 0.6094370337900086, 0.6069041865203192, 0.6254071559002908, 0.47530697544255895, 0.30365427567601483, 0.5836336881399811, 0.31014152393500216, 0.5700270959018099, 0.6143843906538414, 0.5173603664959501, 0.6028050883136695, 0.6242511656281678, 0.5999207826879452, 0.5295872578349694, 0.598403933912515, 0.6262164708543427, 0.5770065768835793, 0.6319201239264169, 0.5396379527540853, 0.6138645683708613, 0.5472640461496298, 0.6360597343160272, 0.5222524377478611, 0.0, 0.6424070114350435, 0.5812802361635313, 0.6291588151868472, 0.40547998784840883, 0.6191867564167335, 0.25860330173259233, 0.6212777984156702, 0.5652456462302, 0.6297375842438772, 0.6951883950653974, 0.6840455379225402]}, {\"categories\": [\"0\", \"1\", \"2\", \"3\", \"4\", \"5\", \"6\", \"7\", \"8\", \"9\", \"10\", \"11\", \"12\", \"13\", \"14\", \"15\", \"16\", \"17\", \"18\", \"19\", \"20\", \"21\", \"22\", \"23\", \"24\", \"25\", \"26\", \"27\", \"28\", \"29\", \"30\", \"31\", \"32\", \"33\", \"34\", \"38\", \"39\"], \"mode\": \"lines\", \"name\": \"norm_macro_recall_max\", \"stepped\": true, \"type\": \"scatter\", \"data\": [0.6154165791620023, 0.626049804187676, 0.626049804187676, 0.626049804187676, 0.626049804187676, 0.626049804187676, 0.626049804187676, 0.626049804187676, 0.626049804187676, 0.626049804187676, 0.626049804187676, 0.626049804187676, 0.626049804187676, 0.626049804187676, 0.626049804187676, 0.626049804187676, 0.626049804187676, 0.6262164708543427, 0.6262164708543427, 0.6319201239264169, 0.6319201239264169, 0.6319201239264169, 0.6319201239264169, 0.6360597343160272, 0.6360597343160272, 0.6360597343160272, 0.6424070114350435, 0.6424070114350435, 0.6424070114350435, 0.6424070114350435, 0.6424070114350435, 0.6424070114350435, 0.6424070114350435, 0.6424070114350435, 0.6424070114350435, 0.6951883950653974, 0.6951883950653974]}], \"recall_score_macro\": [{\"categories\": [\"0\", \"1\", \"2\", \"3\", \"4\", \"5\", \"6\", \"7\", \"8\", \"9\", \"10\", \"11\", \"12\", \"13\", \"14\", \"15\", \"16\", \"17\", \"18\", \"19\", \"20\", \"21\", \"22\", \"23\", \"24\", \"25\", \"26\", \"27\", \"28\", \"29\", \"30\", \"31\", \"32\", \"33\", \"34\", \"38\", \"39\"], \"mode\": \"markers\", \"name\": \"recall_score_macro\", \"stepped\": false, \"type\": \"scatter\", \"data\": [0.8077082895810014, 0.8130249020938379, 0.8047185168950044, 0.8034520932601596, 0.8127035779501455, 0.7376534877212795, 0.6432146976466199, 0.7918168440699906, 0.6536353552689365, 0.785013547950905, 0.8071921953269208, 0.758680183247975, 0.8014025441568349, 0.8121255828140839, 0.7999603913439726, 0.7647936289174846, 0.7992019669562576, 0.8131082354271714, 0.7885032884417896, 0.8159600619632084, 0.7698189763770427, 0.8069322841854307, 0.7736320230748148, 0.8180298671580134, 0.7611262188739305, 0.5, 0.8212035057175218, 0.7906401180817657, 0.8145794075934235, 0.7027399939242045, 0.8095933782083667, 0.6293016508662961, 0.810638899207835, 0.7826228231151, 0.8148687921219386, 0.8475941975326986, 0.8420227689612702]}, {\"categories\": [\"0\", \"1\", \"2\", \"3\", \"4\", \"5\", \"6\", \"7\", \"8\", \"9\", \"10\", \"11\", \"12\", \"13\", \"14\", \"15\", \"16\", \"17\", \"18\", \"19\", \"20\", \"21\", \"22\", \"23\", \"24\", \"25\", \"26\", \"27\", \"28\", \"29\", \"30\", \"31\", \"32\", \"33\", \"34\", \"38\", \"39\"], \"mode\": \"lines\", \"name\": \"recall_score_macro_max\", \"stepped\": true, \"type\": \"scatter\", \"data\": [0.8077082895810014, 0.8130249020938379, 0.8130249020938379, 0.8130249020938379, 0.8130249020938379, 0.8130249020938379, 0.8130249020938379, 0.8130249020938379, 0.8130249020938379, 0.8130249020938379, 0.8130249020938379, 0.8130249020938379, 0.8130249020938379, 0.8130249020938379, 0.8130249020938379, 0.8130249020938379, 0.8130249020938379, 0.8131082354271714, 0.8131082354271714, 0.8159600619632084, 0.8159600619632084, 0.8159600619632084, 0.8159600619632084, 0.8180298671580134, 0.8180298671580134, 0.8180298671580134, 0.8212035057175218, 0.8212035057175218, 0.8212035057175218, 0.8212035057175218, 0.8212035057175218, 0.8212035057175218, 0.8212035057175218, 0.8212035057175218, 0.8212035057175218, 0.8475941975326986, 0.8475941975326986]}], \"f1_score_macro\": [{\"categories\": [\"0\", \"1\", \"2\", \"3\", \"4\", \"5\", \"6\", \"7\", \"8\", \"9\", \"10\", \"11\", \"12\", \"13\", \"14\", \"15\", \"16\", \"17\", \"18\", \"19\", \"20\", \"21\", \"22\", \"23\", \"24\", \"25\", \"26\", \"27\", \"28\", \"29\", \"30\", \"31\", \"32\", \"33\", \"34\", \"38\", \"39\"], \"mode\": \"markers\", \"name\": \"f1_score_macro\", \"stepped\": false, \"type\": \"scatter\", \"data\": [0.8043314151248963, 0.8078501228997539, 0.8001405223007542, 0.808330181465367, 0.7996249854153262, 0.7343198434397482, 0.6262882839324597, 0.795801446434647, 0.6350737082559564, 0.7844731356932927, 0.8054916277167571, 0.7603669925285953, 0.8030293555602672, 0.8151599506038865, 0.7985142741080727, 0.7728404384842704, 0.800592919675218, 0.8183604861761811, 0.802183364889873, 0.8128386800470112, 0.7787939701871022, 0.7957445416133055, 0.7674695236085709, 0.8209707287435173, 0.7577982681639169, 0.4024893878511494, 0.8053905442371023, 0.768317599110507, 0.8062969451113682, 0.7129403492055006, 0.7843019792647643, 0.6213437152217678, 0.8139218100656445, 0.7804654403567447, 0.8090599086690817, 0.8544847640857043, 0.8449107866355658]}, {\"categories\": [\"0\", \"1\", \"2\", \"3\", \"4\", \"5\", \"6\", \"7\", \"8\", \"9\", \"10\", \"11\", \"12\", \"13\", \"14\", \"15\", \"16\", \"17\", \"18\", \"19\", \"20\", \"21\", \"22\", \"23\", \"24\", \"25\", \"26\", \"27\", \"28\", \"29\", \"30\", \"31\", \"32\", \"33\", \"34\", \"38\", \"39\"], \"mode\": \"lines\", \"name\": \"f1_score_macro_max\", \"stepped\": true, \"type\": \"scatter\", \"data\": [0.8043314151248963, 0.8078501228997539, 0.8078501228997539, 0.808330181465367, 0.808330181465367, 0.808330181465367, 0.808330181465367, 0.808330181465367, 0.808330181465367, 0.808330181465367, 0.808330181465367, 0.808330181465367, 0.808330181465367, 0.8151599506038865, 0.8151599506038865, 0.8151599506038865, 0.8151599506038865, 0.8183604861761811, 0.8183604861761811, 0.8183604861761811, 0.8183604861761811, 0.8183604861761811, 0.8183604861761811, 0.8209707287435173, 0.8209707287435173, 0.8209707287435173, 0.8209707287435173, 0.8209707287435173, 0.8209707287435173, 0.8209707287435173, 0.8209707287435173, 0.8209707287435173, 0.8209707287435173, 0.8209707287435173, 0.8209707287435173, 0.8544847640857043, 0.8544847640857043]}], \"f1_score_micro\": [{\"categories\": [\"0\", \"1\", \"2\", \"3\", \"4\", \"5\", \"6\", \"7\", \"8\", \"9\", \"10\", \"11\", \"12\", \"13\", \"14\", \"15\", \"16\", \"17\", \"18\", \"19\", \"20\", \"21\", \"22\", \"23\", \"24\", \"25\", \"26\", \"27\", \"28\", \"29\", \"30\", \"31\", \"32\", \"33\", \"34\", \"38\", \"39\"], \"mode\": \"markers\", \"name\": \"f1_score_micro\", \"stepped\": false, \"type\": \"scatter\", \"data\": [0.8359770114942527, 0.8358620689655172, 0.8327586206896551, 0.8460919540229886, 0.8258620689655173, 0.7822988505747126, 0.722528735632184, 0.8327586206896551, 0.7156321839080461, 0.8228735632183908, 0.8393103448275863, 0.8093103448275862, 0.8426436781609195, 0.8491954022988507, 0.8328735632183909, 0.8226436781609194, 0.8393103448275863, 0.8528735632183908, 0.8428735632183908, 0.842528735632184, 0.825977011494253, 0.8257471264367815, 0.8025287356321839, 0.852873563218391, 0.8058620689655172, 0.6791954022988507, 0.8322988505747129, 0.792528735632184, 0.8357471264367817, 0.7959770114942529, 0.8089655172413794, 0.7525287356321839, 0.8495402298850575, 0.8226436781609194, 0.839080459770115, 0.8796551724137931, 0.8729885057471265]}, {\"categories\": [\"0\", \"1\", \"2\", \"3\", \"4\", \"5\", \"6\", \"7\", \"8\", \"9\", \"10\", \"11\", \"12\", \"13\", \"14\", \"15\", \"16\", \"17\", \"18\", \"19\", \"20\", \"21\", \"22\", \"23\", \"24\", \"25\", \"26\", \"27\", \"28\", \"29\", \"30\", \"31\", \"32\", \"33\", \"34\", \"38\", \"39\"], \"mode\": \"lines\", \"name\": \"f1_score_micro_max\", \"stepped\": true, \"type\": \"scatter\", \"data\": [0.8359770114942527, 0.8359770114942527, 0.8359770114942527, 0.8460919540229886, 0.8460919540229886, 0.8460919540229886, 0.8460919540229886, 0.8460919540229886, 0.8460919540229886, 0.8460919540229886, 0.8460919540229886, 0.8460919540229886, 0.8460919540229886, 0.8491954022988507, 0.8491954022988507, 0.8491954022988507, 0.8491954022988507, 0.8528735632183908, 0.8528735632183908, 0.8528735632183908, 0.8528735632183908, 0.8528735632183908, 0.8528735632183908, 0.852873563218391, 0.852873563218391, 0.852873563218391, 0.852873563218391, 0.852873563218391, 0.852873563218391, 0.852873563218391, 0.852873563218391, 0.852873563218391, 0.852873563218391, 0.852873563218391, 0.852873563218391, 0.8796551724137931, 0.8796551724137931]}], \"weighted_accuracy\": [{\"categories\": [\"0\", \"1\", \"2\", \"3\", \"4\", \"5\", \"6\", \"7\", \"8\", \"9\", \"10\", \"11\", \"12\", \"13\", \"14\", \"15\", \"16\", \"17\", \"18\", \"19\", \"20\", \"21\", \"22\", \"23\", \"24\", \"25\", \"26\", \"27\", \"28\", \"29\", \"30\", \"31\", \"32\", \"33\", \"34\", \"38\", \"39\"], \"mode\": \"markers\", \"name\": \"weighted_accuracy\", \"stepped\": false, \"type\": \"scatter\", \"data\": [0.8541321922200625, 0.8502962163535492, 0.8504714642662285, 0.8740619965118335, 0.8327571558269888, 0.8088368048651879, 0.7766288067794259, 0.8595287859119706, 0.7594382014621525, 0.8459653173983817, 0.8608572536954279, 0.8385082313085942, 0.8688709330074079, 0.873629541293781, 0.8537749403572639, 0.8613850227996014, 0.8669339017794584, 0.8788476748083516, 0.8790236047890391, 0.8597607968858842, 0.8637411440626488, 0.8383964645107778, 0.8223689457979457, 0.8755109020626423, 0.83677571517602, 0.7931711479234276, 0.8400029576548691, 0.7927610985183218, 0.8496926133998104, 0.8554841494148127, 0.8071242703312365, 0.829625772040633, 0.8734514076072569, 0.8477490063869345, 0.8550953783099594, 0.8997600271088567, 0.8928165281299594]}, {\"categories\": [\"0\", \"1\", \"2\", \"3\", \"4\", \"5\", \"6\", \"7\", \"8\", \"9\", \"10\", \"11\", \"12\", \"13\", \"14\", \"15\", \"16\", \"17\", \"18\", \"19\", \"20\", \"21\", \"22\", \"23\", \"24\", \"25\", \"26\", \"27\", \"28\", \"29\", \"30\", \"31\", \"32\", \"33\", \"34\", \"38\", \"39\"], \"mode\": \"lines\", \"name\": \"weighted_accuracy_max\", \"stepped\": true, \"type\": \"scatter\", \"data\": [0.8541321922200625, 0.8541321922200625, 0.8541321922200625, 0.8740619965118335, 0.8740619965118335, 0.8740619965118335, 0.8740619965118335, 0.8740619965118335, 0.8740619965118335, 0.8740619965118335, 0.8740619965118335, 0.8740619965118335, 0.8740619965118335, 0.8740619965118335, 0.8740619965118335, 0.8740619965118335, 0.8740619965118335, 0.8788476748083516, 0.8790236047890391, 0.8790236047890391, 0.8790236047890391, 0.8790236047890391, 0.8790236047890391, 0.8790236047890391, 0.8790236047890391, 0.8790236047890391, 0.8790236047890391, 0.8790236047890391, 0.8790236047890391, 0.8790236047890391, 0.8790236047890391, 0.8790236047890391, 0.8790236047890391, 0.8790236047890391, 0.8790236047890391, 0.8997600271088567, 0.8997600271088567]}], \"average_precision_score_micro\": [{\"categories\": [\"0\", \"1\", \"2\", \"3\", \"4\", \"5\", \"6\", \"7\", \"8\", \"9\", \"10\", \"11\", \"12\", \"13\", \"14\", \"15\", \"16\", \"17\", \"18\", \"19\", \"20\", \"21\", \"22\", \"23\", \"24\", \"25\", \"26\", \"27\", \"28\", \"29\", \"30\", \"31\", \"32\", \"33\", \"34\", \"38\", \"39\"], \"mode\": \"markers\", \"name\": \"average_precision_score_micro\", \"stepped\": false, \"type\": \"scatter\", \"data\": [0.9020054536251629, 0.9033793522124445, 0.9130120963958637, 0.9092612058651592, 0.9161275107245965, 0.8729739522803254, 0.7826162286476999, 0.9076713764950277, 0.8184365505264086, 0.895111815566743, 0.9011768026355295, 0.876380860099481, 0.9180050598371992, 0.9147566051809243, 0.9019692978998345, 0.8974845578120805, 0.9100085270296232, 0.9187936132536677, 0.8981128258167088, 0.9194858145922689, 0.9018326607900157, 0.9170724080632879, 0.8803793159609252, 0.905583818664644, 0.8837786179053586, 0.851577037734641, 0.894652930986898, 0.8591615327781815, 0.9045148236014221, 0.8784458229991607, 0.9056811419134284, 0.883354076718863, 0.9015291478498986, 0.9103968717875901, 0.9157227684273014, 0.9224318454406422, 0.9210434494812112]}, {\"categories\": [\"0\", \"1\", \"2\", \"3\", \"4\", \"5\", \"6\", \"7\", \"8\", \"9\", \"10\", \"11\", \"12\", \"13\", \"14\", \"15\", \"16\", \"17\", \"18\", \"19\", \"20\", \"21\", \"22\", \"23\", \"24\", \"25\", \"26\", \"27\", \"28\", \"29\", \"30\", \"31\", \"32\", \"33\", \"34\", \"38\", \"39\"], \"mode\": \"lines\", \"name\": \"average_precision_score_micro_max\", \"stepped\": true, \"type\": \"scatter\", \"data\": [0.9020054536251629, 0.9033793522124445, 0.9130120963958637, 0.9130120963958637, 0.9161275107245965, 0.9161275107245965, 0.9161275107245965, 0.9161275107245965, 0.9161275107245965, 0.9161275107245965, 0.9161275107245965, 0.9161275107245965, 0.9180050598371992, 0.9180050598371992, 0.9180050598371992, 0.9180050598371992, 0.9180050598371992, 0.9187936132536677, 0.9187936132536677, 0.9194858145922689, 0.9194858145922689, 0.9194858145922689, 0.9194858145922689, 0.9194858145922689, 0.9194858145922689, 0.9194858145922689, 0.9194858145922689, 0.9194858145922689, 0.9194858145922689, 0.9194858145922689, 0.9194858145922689, 0.9194858145922689, 0.9194858145922689, 0.9194858145922689, 0.9194858145922689, 0.9224318454406422, 0.9224318454406422]}], \"recall_score_micro\": [{\"categories\": [\"0\", \"1\", \"2\", \"3\", \"4\", \"5\", \"6\", \"7\", \"8\", \"9\", \"10\", \"11\", \"12\", \"13\", \"14\", \"15\", \"16\", \"17\", \"18\", \"19\", \"20\", \"21\", \"22\", \"23\", \"24\", \"25\", \"26\", \"27\", \"28\", \"29\", \"30\", \"31\", \"32\", \"33\", \"34\", \"38\", \"39\"], \"mode\": \"markers\", \"name\": \"recall_score_micro\", \"stepped\": false, \"type\": \"scatter\", \"data\": [0.8359770114942527, 0.8358620689655172, 0.8327586206896551, 0.8460919540229884, 0.8258620689655173, 0.7822988505747126, 0.722528735632184, 0.8327586206896551, 0.7156321839080461, 0.8228735632183908, 0.8393103448275863, 0.8093103448275862, 0.8426436781609195, 0.8491954022988507, 0.8328735632183909, 0.8226436781609194, 0.8393103448275863, 0.8528735632183908, 0.8428735632183908, 0.842528735632184, 0.825977011494253, 0.8257471264367815, 0.8025287356321839, 0.8528735632183908, 0.8058620689655172, 0.6791954022988507, 0.8322988505747129, 0.792528735632184, 0.8357471264367817, 0.7959770114942529, 0.8089655172413794, 0.7525287356321839, 0.8495402298850575, 0.8226436781609194, 0.839080459770115, 0.8796551724137931, 0.8729885057471265]}, {\"categories\": [\"0\", \"1\", \"2\", \"3\", \"4\", \"5\", \"6\", \"7\", \"8\", \"9\", \"10\", \"11\", \"12\", \"13\", \"14\", \"15\", \"16\", \"17\", \"18\", \"19\", \"20\", \"21\", \"22\", \"23\", \"24\", \"25\", \"26\", \"27\", \"28\", \"29\", \"30\", \"31\", \"32\", \"33\", \"34\", \"38\", \"39\"], \"mode\": \"lines\", \"name\": \"recall_score_micro_max\", \"stepped\": true, \"type\": \"scatter\", \"data\": [0.8359770114942527, 0.8359770114942527, 0.8359770114942527, 0.8460919540229884, 0.8460919540229884, 0.8460919540229884, 0.8460919540229884, 0.8460919540229884, 0.8460919540229884, 0.8460919540229884, 0.8460919540229884, 0.8460919540229884, 0.8460919540229884, 0.8491954022988507, 0.8491954022988507, 0.8491954022988507, 0.8491954022988507, 0.8528735632183908, 0.8528735632183908, 0.8528735632183908, 0.8528735632183908, 0.8528735632183908, 0.8528735632183908, 0.8528735632183908, 0.8528735632183908, 0.8528735632183908, 0.8528735632183908, 0.8528735632183908, 0.8528735632183908, 0.8528735632183908, 0.8528735632183908, 0.8528735632183908, 0.8528735632183908, 0.8528735632183908, 0.8528735632183908, 0.8796551724137931, 0.8796551724137931]}]}, \"metricName\": null, \"primaryMetricName\": \"accuracy\", \"showLegend\": false}, \"run_metrics\": [{\"name\": \"experiment_status\", \"run_id\": \"AutoML_5031ebf5-453b-47d8-b21e-a09dfb5c0976\", \"categories\": [0, 1, 2, 3, 4, 5, 6, 7, 8, 9, 10, 11, 12, 13], \"series\": [{\"data\": [\"DatasetEvaluation\", \"FeaturesGeneration\", \"DatasetFeaturization\", \"DatasetFeaturizationCompleted\", \"DatasetCrossValidationSplit\", \"ModelSelection\", \"BestRunExplainModel\", \"ModelExplanationDataSetSetup\", \"PickSurrogateModel\", \"EngineeredFeatureExplanations\", \"EngineeredFeatureExplanations\", \"RawFeaturesExplanations\", \"RawFeaturesExplanations\", \"BestRunExplainModel\"]}]}, {\"name\": \"experiment_status_description\", \"run_id\": \"AutoML_5031ebf5-453b-47d8-b21e-a09dfb5c0976\", \"categories\": [0, 1, 2, 3, 4, 5, 6, 7, 8, 9, 10, 11, 12, 13], \"series\": [{\"data\": [\"Gathering dataset statistics.\", \"Generating features for the dataset.\", \"Beginning to fit featurizers and featurize the dataset.\", \"Completed fit featurizers and featurizing the dataset.\", \"Generating individually featurized CV splits.\", \"Beginning model selection.\", \"Best run model explanations started\", \"Model explanations data setup completed\", \"Choosing LightGBM as the surrogate model for explanations\", \"Computation of engineered features started\", \"Computation of engineered features completed\", \"Computation of raw features started\", \"Computation of raw features completed\", \"Best run model explanations completed\"]}]}, {\"name\": \"average_precision_score_macro\", \"run_id\": \"AutoML_5031ebf5-453b-47d8-b21e-a09dfb5c0976\", \"categories\": [0], \"series\": [{\"data\": [0.9033071025464542]}]}, {\"name\": \"precision_score_macro\", \"run_id\": \"AutoML_5031ebf5-453b-47d8-b21e-a09dfb5c0976\", \"categories\": [0], \"series\": [{\"data\": [0.8915326605761388]}]}, {\"name\": \"norm_macro_recall\", \"run_id\": \"AutoML_5031ebf5-453b-47d8-b21e-a09dfb5c0976\", \"categories\": [0], \"series\": [{\"data\": [0.6951883950653974]}]}, {\"name\": \"precision_score_weighted\", \"run_id\": \"AutoML_5031ebf5-453b-47d8-b21e-a09dfb5c0976\", \"categories\": [0], \"series\": [{\"data\": [0.8939134261540558]}]}, {\"name\": \"AUC_micro\", \"run_id\": \"AutoML_5031ebf5-453b-47d8-b21e-a09dfb5c0976\", \"categories\": [0], \"series\": [{\"data\": [0.920768265292641]}]}, {\"name\": \"log_loss\", \"run_id\": \"AutoML_5031ebf5-453b-47d8-b21e-a09dfb5c0976\", \"categories\": [0], \"series\": [{\"data\": [0.3707764779358461]}]}, {\"name\": \"recall_score_micro\", \"run_id\": \"AutoML_5031ebf5-453b-47d8-b21e-a09dfb5c0976\", \"categories\": [0], \"series\": [{\"data\": [0.8796551724137931]}]}, {\"name\": \"AUC_macro\", \"run_id\": \"AutoML_5031ebf5-453b-47d8-b21e-a09dfb5c0976\", \"categories\": [0], \"series\": [{\"data\": [0.9137378665427291]}]}, {\"name\": \"f1_score_macro\", \"run_id\": \"AutoML_5031ebf5-453b-47d8-b21e-a09dfb5c0976\", \"categories\": [0], \"series\": [{\"data\": [0.8544847640857043]}]}, {\"name\": \"weighted_accuracy\", \"run_id\": \"AutoML_5031ebf5-453b-47d8-b21e-a09dfb5c0976\", \"categories\": [0], \"series\": [{\"data\": [0.8997600271088567]}]}, {\"name\": \"average_precision_score_micro\", \"run_id\": \"AutoML_5031ebf5-453b-47d8-b21e-a09dfb5c0976\", \"categories\": [0], \"series\": [{\"data\": [0.9224318454406422]}]}, {\"name\": \"accuracy\", \"run_id\": \"AutoML_5031ebf5-453b-47d8-b21e-a09dfb5c0976\", \"categories\": [0], \"series\": [{\"data\": [0.8796551724137931]}]}, {\"name\": \"f1_score_micro\", \"run_id\": \"AutoML_5031ebf5-453b-47d8-b21e-a09dfb5c0976\", \"categories\": [0], \"series\": [{\"data\": [0.8796551724137931]}]}, {\"name\": \"matthews_correlation\", \"run_id\": \"AutoML_5031ebf5-453b-47d8-b21e-a09dfb5c0976\", \"categories\": [0], \"series\": [{\"data\": [0.7351420424664441]}]}, {\"name\": \"recall_score_macro\", \"run_id\": \"AutoML_5031ebf5-453b-47d8-b21e-a09dfb5c0976\", \"categories\": [0], \"series\": [{\"data\": [0.8475941975326986]}]}, {\"name\": \"precision_score_micro\", \"run_id\": \"AutoML_5031ebf5-453b-47d8-b21e-a09dfb5c0976\", \"categories\": [0], \"series\": [{\"data\": [0.8796551724137931]}]}, {\"name\": \"f1_score_weighted\", \"run_id\": \"AutoML_5031ebf5-453b-47d8-b21e-a09dfb5c0976\", \"categories\": [0], \"series\": [{\"data\": [0.8745402351846987]}]}, {\"name\": \"average_precision_score_weighted\", \"run_id\": \"AutoML_5031ebf5-453b-47d8-b21e-a09dfb5c0976\", \"categories\": [0], \"series\": [{\"data\": [0.9262539896633039]}]}, {\"name\": \"AUC_weighted\", \"run_id\": \"AutoML_5031ebf5-453b-47d8-b21e-a09dfb5c0976\", \"categories\": [0], \"series\": [{\"data\": [0.9137378665427291]}]}, {\"name\": \"recall_score_weighted\", \"run_id\": \"AutoML_5031ebf5-453b-47d8-b21e-a09dfb5c0976\", \"categories\": [0], \"series\": [{\"data\": [0.8796551724137931]}]}, {\"name\": \"balanced_accuracy\", \"run_id\": \"AutoML_5031ebf5-453b-47d8-b21e-a09dfb5c0976\", \"categories\": [0], \"series\": [{\"data\": [0.8475941975326986]}]}], \"run_logs\": \"\\nRun is completed.\", \"graph\": {}, \"widget_settings\": {\"childWidgetDisplay\": \"popup\", \"send_telemetry\": false, \"log_level\": \"INFO\", \"sdk_version\": \"1.20.0\"}, \"loading\": false}"
          },
          "metadata": {}
        }
      ],
      "execution_count": 13,
      "metadata": {
        "gather": {
          "logged": 1612688040508
        },
        "jupyter": {
          "outputs_hidden": false,
          "source_hidden": false
        },
        "nteract": {
          "transient": {
            "deleting": false
          }
        }
      }
    },
    {
      "cell_type": "markdown",
      "source": [
        "## Best Model\n",
        "\n",
        "TODO: In the cell below, get the best model from the automl experiments and display all the properties of the model.\n",
        "\n"
      ],
      "metadata": {}
    },
    {
      "cell_type": "code",
      "source": [
        "import joblib\r\n",
        "\r\n",
        "best_automl_run, fitted_automl_model = automl_run.get_output()\r\n",
        "print(best_automl_run)\r\n",
        "print(fitted_automl_model)\r\n",
        "\r\n",
        "joblib.dump(fitted_automl_model, 'automlheartmodel')"
      ],
      "outputs": [
        {
          "output_type": "stream",
          "name": "stderr",
          "text": [
            "WARNING:root:The version of the SDK does not match the version the model was trained on.\n",
            "WARNING:root:The consistency in the result may not be guaranteed.\n",
            "WARNING:root:Package:azureml-automl-core, training version:1.21.0, current version:1.20.0\n",
            "Package:azureml-automl-runtime, training version:1.21.0, current version:1.20.0\n",
            "Package:azureml-core, training version:1.21.0.post1, current version:1.20.0\n",
            "Package:azureml-dataprep, training version:2.8.2, current version:2.7.3\n",
            "Package:azureml-dataprep-native, training version:28.0.0, current version:27.0.0\n",
            "Package:azureml-dataprep-rslex, training version:1.6.0, current version:1.5.0\n",
            "Package:azureml-dataset-runtime, training version:1.21.0, current version:1.20.0\n",
            "Package:azureml-defaults, training version:1.21.0, current version:1.20.0\n",
            "Package:azureml-interpret, training version:1.21.0, current version:1.20.0\n",
            "Package:azureml-pipeline-core, training version:1.21.0, current version:1.20.0\n",
            "Package:azureml-telemetry, training version:1.21.0, current version:1.20.0\n",
            "Package:azureml-train-automl-client, training version:1.21.0, current version:1.20.0\n",
            "Package:azureml-train-automl-runtime, training version:1.21.0, current version:1.20.0\n",
            "WARNING:root:Please ensure the version of your local conda dependencies match the version on which your model was trained in order to properly retrieve your model.\n"
          ]
        },
        {
          "output_type": "stream",
          "name": "stdout",
          "text": [
            "Run(Experiment: automl-heart-failure,\n",
            "Id: AutoML_5031ebf5-453b-47d8-b21e-a09dfb5c0976_38,\n",
            "Type: azureml.scriptrun,\n",
            "Status: Completed)\n",
            "Pipeline(memory=None,\n",
            "         steps=[('datatransformer',\n",
            "                 DataTransformer(enable_dnn=None, enable_feature_sweeping=None,\n",
            "                                 feature_sweeping_config=None,\n",
            "                                 feature_sweeping_timeout=None,\n",
            "                                 featurization_config=None, force_text_dnn=None,\n",
            "                                 is_cross_validation=None,\n",
            "                                 is_onnx_compatible=None, logger=None,\n",
            "                                 observer=None, task=None, working_dir=None)),\n",
            "                ('prefittedsoftvotingclassifier',...\n",
            "                                                                                                random_state=None,\n",
            "                                                                                                reg_alpha=0.3157894736842105,\n",
            "                                                                                                reg_lambda=0.631578947368421,\n",
            "                                                                                                silent=True,\n",
            "                                                                                                subsample=0.09947368421052633,\n",
            "                                                                                                subsample_for_bin=200000,\n",
            "                                                                                                subsample_freq=0,\n",
            "                                                                                                verbose=-10))],\n",
            "                                                                     verbose=False))],\n",
            "                                               flatten_transform=None,\n",
            "                                               weights=[0.2222222222222222,\n",
            "                                                        0.1111111111111111,\n",
            "                                                        0.2222222222222222,\n",
            "                                                        0.1111111111111111,\n",
            "                                                        0.2222222222222222,\n",
            "                                                        0.1111111111111111]))],\n",
            "         verbose=False)\n"
          ]
        },
        {
          "output_type": "execute_result",
          "execution_count": 14,
          "data": {
            "text/plain": "['automlheartmodel']"
          },
          "metadata": {}
        }
      ],
      "execution_count": 14,
      "metadata": {
        "gather": {
          "logged": 1612688377205
        },
        "jupyter": {
          "outputs_hidden": false,
          "source_hidden": false
        },
        "nteract": {
          "transient": {
            "deleting": false
          }
        }
      }
    },
    {
      "cell_type": "markdown",
      "source": [
        "## Model Deployment\n",
        "\n",
        "Remember you have to deploy only one of the two models you trained.. Perform the steps in the rest of this notebook only if you wish to deploy this model.\n",
        "\n",
        "TODO: In the cell below, register the model, create an inference config and deploy the model as a web service."
      ],
      "metadata": {}
    },
    {
      "cell_type": "code",
      "source": [],
      "outputs": [],
      "execution_count": null,
      "metadata": {
        "gather": {
          "logged": 1598431435189
        },
        "jupyter": {
          "outputs_hidden": false,
          "source_hidden": false
        },
        "nteract": {
          "transient": {
            "deleting": false
          }
        }
      }
    },
    {
      "cell_type": "markdown",
      "source": [
        "TODO: In the cell below, send a request to the web service you deployed to test it."
      ],
      "metadata": {
        "collapsed": true,
        "gather": {
          "logged": 1598431657736
        },
        "jupyter": {
          "outputs_hidden": false,
          "source_hidden": false
        },
        "nteract": {
          "transient": {
            "deleting": false
          }
        }
      }
    },
    {
      "cell_type": "code",
      "source": [],
      "outputs": [],
      "execution_count": null,
      "metadata": {
        "gather": {
          "logged": 1598432707604
        },
        "jupyter": {
          "outputs_hidden": false,
          "source_hidden": false
        },
        "nteract": {
          "transient": {
            "deleting": false
          }
        }
      }
    },
    {
      "cell_type": "markdown",
      "source": [
        "TODO: In the cell below, print the logs of the web service and delete the service"
      ],
      "metadata": {
        "collapsed": true,
        "gather": {
          "logged": 1598432765711
        },
        "jupyter": {
          "outputs_hidden": false,
          "source_hidden": false
        },
        "nteract": {
          "transient": {
            "deleting": false
          }
        }
      }
    },
    {
      "cell_type": "code",
      "source": [],
      "outputs": [],
      "execution_count": null,
      "metadata": {
        "jupyter": {
          "outputs_hidden": false,
          "source_hidden": false
        },
        "nteract": {
          "transient": {
            "deleting": false
          }
        }
      }
    }
  ],
  "metadata": {
    "kernel_info": {
      "name": "python3"
    },
    "kernelspec": {
      "name": "python3",
      "language": "python",
      "display_name": "Python 3"
    },
    "language_info": {
      "name": "python",
      "version": "3.6.9",
      "mimetype": "text/x-python",
      "codemirror_mode": {
        "name": "ipython",
        "version": 3
      },
      "pygments_lexer": "ipython3",
      "nbconvert_exporter": "python",
      "file_extension": ".py"
    },
    "nteract": {
      "version": "nteract-front-end@1.0.0"
    }
  },
  "nbformat": 4,
  "nbformat_minor": 2
}